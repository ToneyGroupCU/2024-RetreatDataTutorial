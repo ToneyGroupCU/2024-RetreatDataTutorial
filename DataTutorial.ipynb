{
 "cells": [
  {
   "cell_type": "markdown",
   "id": "b2340224-5a0d-49ba-857b-24e51f0db5bf",
   "metadata": {},
   "source": [
    "# Toney Group Retreat 2024 - Professional Development - Data Workflows Tutorial "
   ]
  },
  {
   "cell_type": "markdown",
   "id": "3630ddf0-009d-43dd-ba07-ede2747db768",
   "metadata": {},
   "source": [
    "Introduction:\n",
    "\n",
    "This notebook has 3 different sections, which have different target audiences:\n",
    "* Level 1: For those that are unfamiliar with or new to using python, jupyter, and basic data science tools\n",
    "* Level 2: For everyone, relatively basic yet still useful and often overlooked tools\n",
    "* Level 3: For those that are already comfortable with the fundamentals of python data science work\n",
    "\n",
    "So if you're new or unfamiliar with python data science, then complete levels 1 and 2. \n",
    "If you're an advanced python data science user, then complete levels 2 and 3.  \n",
    "\n",
    "This tutorial notebook is to serve as a starting point and guide to various tools that we have found useful in our own data workflows. Additional references to learn more about any of the topics mentioned will be included at the end of each level section. "
   ]
  },
  {
   "cell_type": "markdown",
   "id": "247d4eac-00e1-4653-9d94-45b0ed48f5a1",
   "metadata": {
    "jp-MarkdownHeadingCollapsed": true,
    "tags": []
   },
   "source": [
    "## Level 1: Jupyter, NumPy, Matplotlib, and Pandas"
   ]
  },
  {
   "cell_type": "markdown",
   "id": "ddd5def5-1c9f-4be7-b6e8-221d5def03a6",
   "metadata": {},
   "source": [
    "In this level you will learn how to navigate jupyterlab and use the fundamental python data science packages numpy, matplotlib, and pandas. \n",
    "\n",
    "You will use these packages to load, process, and plot example beamtime data."
   ]
  },
  {
   "cell_type": "markdown",
   "id": "bca11230-8896-4480-ad1a-24b12b6a1741",
   "metadata": {
    "tags": []
   },
   "source": [
    "### Jupyter "
   ]
  },
  {
   "cell_type": "markdown",
   "id": "f0a11e3c-c8d8-4c45-846a-e4010bb9cc28",
   "metadata": {},
   "source": [
    "Jupyter Notebooks and JupyterLab are interactive ways to use python in your data workflows. From __[Jupyter's website](https://jupyter.org/about)__:\n",
    "> \"Project Jupyter is a non-profit, open-source project, born out of the IPython Project in 2014 as it evolved to support interactive data science and scientific computing across all programming languages. Jupyter will always be 100% open-source software, free for all to use and released under the liberal terms of the modified BSD license.\"\n",
    "\n",
    "The following two subsections are adapted from one of Michael Shirt's python class notebooks:"
   ]
  },
  {
   "cell_type": "markdown",
   "id": "1b351783-4cef-4f35-a8d0-e00644caaa77",
   "metadata": {
    "tags": []
   },
   "source": [
    "#### Entering data in Jupyter notebooks "
   ]
  },
  {
   "cell_type": "markdown",
   "id": "ad5cf4c0-3369-4f65-8be6-68660bfa2f56",
   "metadata": {},
   "source": [
    "This **notebook** is an interactive session. We just type the command `print(\"Hello, World.\")` and the press `Shift+Enter` to execute."
   ]
  },
  {
   "cell_type": "code",
   "execution_count": null,
   "id": "262f1b1f-4b31-4f52-9333-4b03dce4c12f",
   "metadata": {},
   "outputs": [],
   "source": [
    "print(\"Hello, World.\")"
   ]
  },
  {
   "cell_type": "markdown",
   "id": "cfb107c4-66f0-4490-9a4a-612ffc5c9146",
   "metadata": {},
   "source": [
    "The cells also show the results of the last statement, but not the previous ones."
   ]
  },
  {
   "cell_type": "code",
   "execution_count": null,
   "id": "5a8ff729-8159-4535-afc9-c71d203e0957",
   "metadata": {},
   "outputs": [],
   "source": [
    "x=8\n",
    "y=7\n",
    "print(y+1)\n",
    "print(x+1)\n",
    "x+1"
   ]
  },
  {
   "cell_type": "markdown",
   "id": "cfdc4cdf-14d9-4b42-adec-76294d888e57",
   "metadata": {},
   "source": [
    "A useful feature of using JupyterLab is the ability to quickly view docstrings and source code within the notebook. You can press `Shift+Tab` while the cursor is at the end of a function or inside its call parentheses, or you can type a function and replace with parentheses with a '?' to view the docstring or '??' to view the source code. \n",
    "\n",
    "Try placing your cursor at the end of the print function in the two cells below and pressing `Shift+Tab` to pull up a floating, scrollable docstring. Then run the cell to see the output from using question mark."
   ]
  },
  {
   "cell_type": "code",
   "execution_count": null,
   "id": "973c4cdd-532a-41a4-bbb5-31fbcc313902",
   "metadata": {},
   "outputs": [],
   "source": [
    "# since print is a builtin function, double question marks wont show the source code in this case\n",
    "print?"
   ]
  },
  {
   "cell_type": "markdown",
   "id": "b4859bab-4064-492a-bb87-9432b28587ec",
   "metadata": {
    "tags": []
   },
   "source": [
    "#### Execution order"
   ]
  },
  {
   "cell_type": "markdown",
   "id": "d79eb01c-6bf7-4dec-8d98-ffcf2403b40e",
   "metadata": {},
   "source": [
    "**Note**: When using Jupyter notebooks, it is very important to know that the cells can be executed out of order\n",
    "(intentionally or not). The state of the environment (e.g., values of variables, imports, etc.) is defined by the execution\n",
    "order, i.e. the order in which you run cells.  This can come back to bite you if you reopen a notebook and try to pick up where you left off! To see this, try running the cells below in different orders!"
   ]
  },
  {
   "cell_type": "code",
   "execution_count": null,
   "id": "87d14d8f-f58d-4b05-9b6f-b472d284b01b",
   "metadata": {},
   "outputs": [],
   "source": [
    "x=8"
   ]
  },
  {
   "cell_type": "code",
   "execution_count": null,
   "id": "e385b2dc-e5b7-4d17-990b-4def974908ba",
   "metadata": {},
   "outputs": [],
   "source": [
    "x=5"
   ]
  },
  {
   "cell_type": "code",
   "execution_count": null,
   "id": "9e8ef62c-2212-47ed-8797-43d72aa97bd8",
   "metadata": {},
   "outputs": [],
   "source": [
    "print(x)"
   ]
  },
  {
   "cell_type": "markdown",
   "id": "2158964a-435f-405b-ba77-66f0e7941bd6",
   "metadata": {},
   "source": [
    "This may seem problematic if you are used to programming in environments where the state is linked to the order of the commands as *written*, not as *executed*.\n",
    "\n",
    "**Again, notice that the state of the environment is determined by the execution order.**\n",
    "Note also that the square brackets to the left of the cell show the order that cells were executed. If you scroll to the top, you should see that the code cells show an execution order of `[1]` , `[4]` , and `[3]`, (or similar numbers) indicating the actual execution order.\n",
    "\n",
    "There are some useful menu commands at the top of the Jupyter notebook to help with these problems and make sure you retain the execution order as expected.\n",
    "\n",
    "Some important commands to remember:\n",
    "* You can clear the current state with the menu item `Kernel | Restart & Clear Output`\n",
    "* It is often useful to clear the state using the menu command just described, and then execute all the lines above the currently selected cell using `Cell | Run All Above` .\n",
    "* You can clear all the state and re-run the entire notebook using `Kernel | Restart & Run All`."
   ]
  },
  {
   "cell_type": "markdown",
   "id": "df949300-798e-4d96-9f70-f0a3652e940a",
   "metadata": {
    "tags": []
   },
   "source": [
    "#### Nagivating Jupyter notebook cells"
   ]
  },
  {
   "cell_type": "markdown",
   "id": "f5f1c080-6b68-4c80-badd-410388ae6385",
   "metadata": {},
   "source": [
    "When working in Jupyter notebooks, you will frequently want to add or modify cells as your notebook grows. \n",
    "\n",
    "There are buttons at the top of the notebook to add cells, copy cells, paste cells, run cells and more (hovering over each button tells you what it does). However, it is much faster and convenient to use keyboard shortcuts to accomplish the majority of these functions:\n",
    "\n",
    "1. `esc` = move cursor out of text editing mode within the cell to select cells mode\n",
    "2. `enter` = move cursor into selected cell \n",
    "<br>When in select cells mode:\n",
    "3. `A` = add cell above selected cell\n",
    "4. `B` = add cell below selected cell\n",
    "5. `Arrow-key-up`, `Arrow-key-down` = select cells up or down\n",
    "6. `D,D` = delete selected cell (press 'D' twice)\n",
    "\n",
    "Jupyter encourages the use of these and other keyboard shortcuts for improved productivity and ease of use. Try creating, deleting, editing, and selecting various cells below. You can always press `CMD+Z` or `CTRL+Z` to undo any actions (also in `Edit | Undo`)"
   ]
  },
  {
   "cell_type": "code",
   "execution_count": null,
   "id": "fcfa5159-364a-491e-8086-f54f680e1a4f",
   "metadata": {},
   "outputs": [],
   "source": [
    "# add a cell above me, then delete it and this cell"
   ]
  },
  {
   "cell_type": "code",
   "execution_count": null,
   "id": "3648a6a0-fbe6-43ed-a6e4-558bac39f311",
   "metadata": {},
   "outputs": [],
   "source": [
    "# write something else in here, then add a cell below it"
   ]
  },
  {
   "cell_type": "markdown",
   "id": "873a9695-03eb-42a0-a112-521ec2582540",
   "metadata": {
    "tags": []
   },
   "source": [
    "#### Navigating the JupyterLab sidebar"
   ]
  },
  {
   "cell_type": "markdown",
   "id": "fc9621cc-901b-45d4-9892-728871f4717e",
   "metadata": {},
   "source": [
    "You may have already noticed the sidebar to the left when working in JupyterLab, there are 4 different tabs by default:\n",
    "1. `File Browser`\n",
    "    <br> Navigate around directories within the directory where you launched JupyterLab. You double-click on folders to move the file browser to inside that folder and on files to view their contents in new tabs. JupyterLab can view .ipynb Jupyter notebooks, .py python scripts, most types of text files, many image types, and more. \n",
    "    <br>**Useful tip:** You can go into `File | Open from Path` to open a path directly. This can save you lots of time when working with multiple directories.\n",
    "    \n",
    "2. `Running Terminals and Kernels`\n",
    "    <br>Shows open tabs, kernels, and terminals. Kernels refers to the running python environment for active notebooks, which also contain any loaded objects if the notebook has been ran. Kernels store their variables in your computer's RAM, so it is good to manage them to make sure you don't have any that are becoming too large in memory or many open simultaneously. \n",
    "    <br> Terminals shows you any open terminal tabs. \n",
    "    \n",
    "3. `Table of Contents`\n",
    "    <br> Shows an outline of all the section headers within a notebook. Useful for quickly navigating around notebooks!\n",
    "    \n",
    "4. `Extension Manager`\n",
    "    <br> Here you can install extensions to potentially enhance your local JupyterLab setup. "
   ]
  },
  {
   "cell_type": "code",
   "execution_count": null,
   "id": "0bb3d777-5dff-4df0-8442-8dd3305b05f4",
   "metadata": {},
   "outputs": [],
   "source": [
    "# Check all of the sidebar menus out now!"
   ]
  },
  {
   "cell_type": "markdown",
   "id": "1f8b8040-7860-4668-b77d-d5572249ea71",
   "metadata": {
    "tags": []
   },
   "source": [
    "### NumPy, Matplotlib, and Pandas"
   ]
  },
  {
   "cell_type": "markdown",
   "id": "5c5f8770-7803-434a-94c4-69fbada1cbba",
   "metadata": {},
   "source": [
    "This section will demonstrate some very basic ways to use numpy, matplotlib, and pandas. This  __[online data analysis handbook](https://jakevdp.github.io/PythonDataScienceHandbook/)__ is a great resource for learning about these tools in more depth when you're starting out. \n",
    "Some excerpts from the linked handbook for some context are below:\n",
    "> \"NumPy (short for Numerical Python) provides an efficient interface to store and operate on dense data buffers. In some ways, NumPy arrays are like Python's built-in list type, but NumPy arrays provide much more efficient storage and data operations as the arrays grow larger in size. NumPy arrays form the core of nearly the entire ecosystem of data science tools in Python, so time spent learning to use NumPy effectively will be valuable no matter what aspect of data science interests you.\"\n",
    "\n",
    "> \"Matplotlib is a multi-platform data visualization library built on NumPy arrays, and designed to work with the broader SciPy stack. It was conceived by John Hunter in 2002, originally as a patch to IPython for enabling interactive MATLAB-style plotting via gnuplot from the IPython command line. IPython's creator, Fernando Perez, was at the time scrambling to finish his PhD, and let John know he wouldn’t have time to review the patch for several months. John took this as a cue to set out on his own, and the Matplotlib package was born, with version 0.1 released in 2003.\"\n",
    "\n",
    "> \"Pandas is a newer package built on top of NumPy, and provides an efficient implementation of a DataFrame. DataFrames are essentially multidimensional arrays with attached row and column labels, and often with heterogeneous types and/or missing data. As well as offering a convenient storage interface for labeled data, Pandas implements a number of powerful data operations familiar to users of both database frameworks and spreadsheet programs.\"\n",
    "\n",
    "In the following cells, you will generate artificial data with numpy, visualize it with matplotlib, and save the data as a .csv file using pandas. "
   ]
  },
  {
   "cell_type": "code",
   "execution_count": null,
   "id": "081c2b2c-d9dd-4b22-ad37-2decc908f962",
   "metadata": {},
   "outputs": [],
   "source": [
    "# Imports\n",
    "import pathlib\n",
    "import numpy as np\n",
    "import matplotlib.pyplot as plt\n",
    "import pandas as pd"
   ]
  },
  {
   "cell_type": "markdown",
   "id": "79933312-9ade-4eb1-a95a-5d9b1cccb8f5",
   "metadata": {},
   "source": [
    "<div class=\"alert alert-block alert-info\"><b>Tip:</b> You can check available autocompletions in a module by pressing 'Tab' when the cursor is after the '.' when accessing a method or attribute of a module/class. \n",
    "</div>"
   ]
  },
  {
   "cell_type": "markdown",
   "id": "619f41ec-b849-4dda-aa96-ce243cf3eca5",
   "metadata": {
    "tags": []
   },
   "source": [
    "#### Use numpy and matplotlib"
   ]
  },
  {
   "cell_type": "code",
   "execution_count": null,
   "id": "e55222b5-df46-4a11-b2b7-61b0263e994f",
   "metadata": {},
   "outputs": [],
   "source": [
    "# Generate data with numpy\n",
    "x = np.linspace(-np.pi, np.pi, 300)  # generate a 1D array of 300 values evenly spaced between negative pi and positive pi\n",
    "y = np.sin(x)  # generate another 1D array of the sin of each value contained in 'x'\n",
    "\n",
    "# Show data with matplotlib.pyplot directly\n",
    "plt.plot(x, y)  # quickly plot the x array along the x axis and the y array along the y axis\n",
    "plt.show()  # this is technically not needed in jupyter notebooks, but suppressed the output"
   ]
  },
  {
   "cell_type": "code",
   "execution_count": null,
   "id": "691176c7-606c-42cc-9dee-8ad0abd79be6",
   "metadata": {},
   "outputs": [],
   "source": [
    "# Lets make some minor adjustments:\n",
    "\n",
    "plt.plot(x, y)\n",
    "\n",
    "plt.gcf().set(size_inches=(5,2.5), dpi=150)  # Access the current figure to quickly adjust the dpi\n",
    "plt.title('sin(x)') # maybe we want a title?\n",
    "plt.xlabel('radians')  # maybe we want an xlabel?\n",
    "\n",
    "plt.show()  # This is technically not needed in jupyter notebooks"
   ]
  },
  {
   "cell_type": "markdown",
   "id": "2ceb5d98-e5ca-4b62-a91f-ec1ca5e03cf7",
   "metadata": {},
   "source": [
    "<div class=\"alert alert-block alert-info\"><b>Using plt.plot() vs plt.subplots():</b> plt.plot(), as shown above is useful for quickly plotting data, but is not generally recommended for more complicated figures with detailed formatting and/or multiple plots.\n",
    "    <br> In those situations, it is better to use a format like <b>fig, ax = plt.subplots()</b>. Check the documation on plt.subplots() to learn more about how and when to use it. \n",
    "</div>"
   ]
  },
  {
   "cell_type": "markdown",
   "id": "ece2bc01-40a1-4e7c-a289-cfa4e3f68773",
   "metadata": {
    "tags": []
   },
   "source": [
    "#### Make a pandas DataFrame"
   ]
  },
  {
   "cell_type": "code",
   "execution_count": null,
   "id": "6cae4404-c468-424a-8aab-433463d743af",
   "metadata": {},
   "outputs": [],
   "source": [
    "# Puts data in numpy array with columns x and y (the shape of these are horizontal, so one way to do this\n",
    "# is to stack them vertically and then transpose the array)\n",
    "data_array = np.vstack((x, y)).T\n",
    "\n",
    "# Make pandas dataframe with data and labeled columns, the set_index method just removes the \n",
    "# first index column that is automatically generated\n",
    "df = pd.DataFrame(data=data_array, columns=('x', 'y'))  #.set_index('x')\n",
    "df"
   ]
  },
  {
   "cell_type": "markdown",
   "id": "2b4002bc-afe2-4fb4-aac1-acf439993710",
   "metadata": {
    "tags": []
   },
   "source": [
    "#### Saving as csv file"
   ]
  },
  {
   "cell_type": "code",
   "execution_count": null,
   "id": "bc5b5d47-d90e-4e25-97e0-44532b239443",
   "metadata": {},
   "outputs": [],
   "source": [
    "# Use pd.DataFrame.to_csv() function to save data as csv\n",
    "# We usually don't care about saving the index values as a column, so we can disable this\n",
    "# by setting index=False\n",
    "df.to_csv('numpy_sin_data.csv', index=False)  # By default this saves your file to the notebook working directory\n",
    "\n",
    "# To choose other directories, put the full path you want to use. \n",
    "# I like pathlib for this, here I save the csv to an 'output' folder within my working direcoty\n",
    "notebookPath = pathlib.Path.cwd()  # Saves current working direcoty as Windows or Posix Path depending on your OS\n",
    "outputPath = notebookPath.joinpath('output')  # Specify path to save to\n",
    "outputPath.mkdir(exist_ok=True)  # Makes directory if not already made\n",
    "df.to_csv(outputPath.joinpath('numpy_sin_data.csv'), index=False)  # Joinpath also can be used for filename\n",
    "df"
   ]
  },
  {
   "cell_type": "markdown",
   "id": "31ac62d8-9297-407e-9a03-fa7602718da3",
   "metadata": {
    "tags": []
   },
   "source": [
    "#### Loading and plotting data from csv files"
   ]
  },
  {
   "cell_type": "code",
   "execution_count": null,
   "id": "a8eb3ba4-aa2d-4d62-87ee-d44b30b313a8",
   "metadata": {
    "tags": []
   },
   "outputs": [],
   "source": [
    "# Use pandas to load data frame from a csv file\n",
    "\n",
    "df_read = pd.read_csv(outputPath.joinpath('numpy_sin_data.csv'))\n",
    "df_read"
   ]
  },
  {
   "cell_type": "markdown",
   "id": "a5fd38e9-b321-445f-98fa-712bdd0f6fea",
   "metadata": {
    "tags": []
   },
   "source": [
    "#### Plotting"
   ]
  },
  {
   "cell_type": "code",
   "execution_count": null,
   "id": "efa49369-d50f-4389-85cf-22fc0c6c19bb",
   "metadata": {},
   "outputs": [],
   "source": [
    "# Directly from DataFrame colums\n",
    "plt.plot(df_read['x'], df_read['y'])\n",
    "plt.show()"
   ]
  },
  {
   "cell_type": "code",
   "execution_count": null,
   "id": "ea855875-7156-47a4-be4e-d9f892278837",
   "metadata": {},
   "outputs": [],
   "source": [
    "# Or if you prefer to work with numpy arrayes\n",
    "array = np.array(df_read)\n",
    "plt.plot(array[:, 0], array[:, 1])\n",
    "plt.show()"
   ]
  },
  {
   "cell_type": "markdown",
   "id": "e9128ce4-3543-48a1-af7d-8790cb881c5e",
   "metadata": {
    "tags": []
   },
   "source": [
    "### Beamtime data example"
   ]
  },
  {
   "cell_type": "markdown",
   "id": "d2d69d33-618d-4cbd-a9a7-fd005e8ec01d",
   "metadata": {},
   "source": [
    "In this example, you are going to: \n",
    "1. Load some NEXAFS data from a .txt file into a numpy array\n",
    "2. Plot it and save a .png file of the plot\n",
    "3. Make a pandas dataframe and plot it again\n",
    "4. Save a .csv file of the same data now with column headers"
   ]
  },
  {
   "cell_type": "code",
   "execution_count": null,
   "id": "3f3ac08b-cec1-447b-b6ff-3db3f54afbba",
   "metadata": {},
   "outputs": [],
   "source": [
    "# The first steps are to import the necessary packages and definte relevant paths:\n",
    "\n",
    "# Imports\n",
    "import pathlib\n",
    "import numpy as np\n",
    "import pandas as pd\n",
    "import matplotlib.pyplot as plt\n",
    "\n",
    "# Define paths:\n",
    "notebookPath = pathlib.Path.cwd()\n",
    "nexafsPath = notebookPath.joinpath('Y6-CF_nexafs_data.txt')"
   ]
  },
  {
   "cell_type": "code",
   "execution_count": null,
   "id": "297aedca-29f9-4e00-92be-d32781bd558d",
   "metadata": {},
   "outputs": [],
   "source": [
    "# Now lets load the nexafs data using np.loadtxt()\n",
    "\n",
    "nexafs_data = np.loadtxt(nexafsPath)\n",
    "nexafs_data.shape"
   ]
  },
  {
   "cell_type": "markdown",
   "id": "8c3fc99b-d9a7-4ef6-be77-30c4f2305689",
   "metadata": {},
   "source": [
    "Notice that the nexafs_data numpy array has the shape (X rows, Y columns). This data is NEXAFS data of a pure film of the small molecule acceptor Y6, a common high performance material used in organic photovoltaics. The first column is the X-ray energy and the remaining columns are the \\$\\theta$ angle, the angle between the X-ray polarization and the substrate normal. <br> The columns are [energy, 20°, 30°, 55°, 70°, and 90°]"
   ]
  },
  {
   "cell_type": "code",
   "execution_count": null,
   "id": "b5df0641-4213-428c-a84c-e3a181d2cc83",
   "metadata": {},
   "outputs": [],
   "source": [
    "# Make a simple plot with matplotlib \n",
    "\n",
    "plt.plot(nexafs_data[:,0], nexafs_data[:,1], label='20')\n",
    "plt.plot(nexafs_data[:,0], nexafs_data[:,3], label='55')\n",
    "plt.plot(nexafs_data[:,0], nexafs_data[:,5], label='90')\n",
    "plt.legend()\n",
    "plt.show()"
   ]
  },
  {
   "cell_type": "markdown",
   "id": "b2e243ac-277f-444f-9a7e-4cb214669473",
   "metadata": {},
   "source": [
    "Again, using plt.plot() is nice to quickly plot and see your data in very few lines of code. But we probably want to make some immediate changes/improvements to this plot:\n",
    "1. Add title and axis labels\n",
    "2. Improve dpi & increase font size (adjust figure size)\n",
    "3. Plot all angles and use a reasonable color scheme\n",
    "\n",
    "This will be easier to do using plt.subplots():"
   ]
  },
  {
   "cell_type": "code",
   "execution_count": null,
   "id": "90383841-f374-499c-9e88-5b29426543bc",
   "metadata": {},
   "outputs": [],
   "source": [
    "# Generate an empty figure and plot axes, set the size and dpi of the figure\n",
    "fig, ax = plt.subplots()\n",
    "fig.set(size_inches=(6,3), dpi=120)\n",
    "\n",
    "# Make a list of RGBA color values to use for each angle using matplotlib and numpy\n",
    "colors = plt.cm.viridis_r(np.linspace(0,1,len(nexafs_data[0,:])))\n",
    "\n",
    "# Set values for the plot not to be looped over\n",
    "energy = nexafs_data[:, 0]  # Set the energy values from the loaded text file\n",
    "angles = [20, 30, 55, 70, 90]  # Specify the angles now\n",
    "for i, angle in enumerate(angles):  \n",
    "    column_num = i+1  # We are excluding the first column since that is the energy\n",
    "    nf_spectra = nexafs_data[:, column_num]  # Select the appropriate nexafs data for the corresponding angle    \n",
    "    # Draw the line on the ax subplot, add the angle as a label and set the color to the correct RGBA value\n",
    "    ax.plot(energy, nf_spectra, label=angle, color=colors[i]) \n",
    "    \n",
    "# Set the title, axis labels, and x limits\n",
    "ax.set(title='Y6 Angle-Dependent NEXAFS', xlabel='Photon Energy [eV]', \n",
    "       ylabel='Normalized Intensity [arb. units]', xlim=([270,325]))\n",
    "ax.legend(title=r'$\\theta$ [$\\degree$]')\n",
    "\n",
    "# Show the plot, then close it to reduce memory usage\n",
    "plt.show()\n",
    "plt.close('all')"
   ]
  },
  {
   "cell_type": "markdown",
   "id": "daa2ba10-ee6d-4f20-9689-f4608f55a3bb",
   "metadata": {},
   "source": [
    "Further basic data manipulation tools that are good practice:"
   ]
  },
  {
   "cell_type": "code",
   "execution_count": null,
   "id": "c503f5e3-1a01-4f41-90ec-62726fb5ff15",
   "metadata": {},
   "outputs": [],
   "source": [
    "# Make a pandas dataframe"
   ]
  },
  {
   "cell_type": "code",
   "execution_count": null,
   "id": "bff32d86-d223-43ce-b571-79022c90c030",
   "metadata": {},
   "outputs": [],
   "source": [
    "# Plot using the dataframe"
   ]
  },
  {
   "cell_type": "code",
   "execution_count": null,
   "id": "eb12eddf-db0e-473f-b32d-7c629d29987b",
   "metadata": {},
   "outputs": [],
   "source": [
    "# Save a .csv file from the pandas dataframe"
   ]
  },
  {
   "cell_type": "markdown",
   "id": "864a7c85-6c58-49e1-a1ff-0d1ec9a477e0",
   "metadata": {
    "jp-MarkdownHeadingCollapsed": true,
    "tags": []
   },
   "source": [
    "## Level 2: Bash, Git (and GitHub), VS Code, IPython Magic, Pathlib & Data Organization"
   ]
  },
  {
   "cell_type": "markdown",
   "id": "4cb44bf7-0db9-44f7-a870-b048a71bd34c",
   "metadata": {},
   "source": [
    "In this level you will learn about:\n",
    "* Useful bash commands and information\n",
    "* Using git and github to version control your code\n",
    "* Using VS Code as your interactive development environment\n",
    "* IPython magic commands\n",
    "* Using pathlib and making data organization easier"
   ]
  },
  {
   "cell_type": "markdown",
   "id": "816a4553-ee71-4a89-94e1-6ca9a8e191c3",
   "metadata": {
    "jp-MarkdownHeadingCollapsed": true,
    "tags": []
   },
   "source": [
    "### Bash / terminal commands"
   ]
  },
  {
   "cell_type": "code",
   "execution_count": null,
   "id": "c639fe22-2f2c-48e4-89fd-747bfb1003ef",
   "metadata": {},
   "outputs": [],
   "source": [
    "# Basics"
   ]
  },
  {
   "cell_type": "code",
   "execution_count": null,
   "id": "18d0c8f6-0777-4f23-b673-7fdde3a509dd",
   "metadata": {},
   "outputs": [],
   "source": [
    "# Tar"
   ]
  },
  {
   "cell_type": "code",
   "execution_count": null,
   "id": "b0aba1d7-a0ce-4a92-9197-d1e02fe330d3",
   "metadata": {},
   "outputs": [],
   "source": [
    "# Bash scripts"
   ]
  },
  {
   "cell_type": "markdown",
   "id": "c3865726-7da4-45d4-838c-f5616e9369b3",
   "metadata": {
    "tags": []
   },
   "source": [
    "### Git and GitHub"
   ]
  },
  {
   "cell_type": "code",
   "execution_count": null,
   "id": "07bdd61a-fa48-4f2c-af9b-b941e0892b79",
   "metadata": {},
   "outputs": [],
   "source": [
    "# Git"
   ]
  },
  {
   "cell_type": "code",
   "execution_count": null,
   "id": "070edca3-938e-4335-a3a5-c0e13d13dab5",
   "metadata": {},
   "outputs": [],
   "source": [
    "# GitHub"
   ]
  },
  {
   "cell_type": "markdown",
   "id": "1552d5c6-6a03-4538-9af5-7ef8a971464d",
   "metadata": {
    "jp-MarkdownHeadingCollapsed": true,
    "tags": []
   },
   "source": [
    "### VS Code"
   ]
  },
  {
   "cell_type": "code",
   "execution_count": null,
   "id": "f2c654d4-7b86-4bf0-a820-fd0e3fa7e048",
   "metadata": {},
   "outputs": [],
   "source": []
  },
  {
   "cell_type": "markdown",
   "id": "1c405290-ce8b-43f2-bd76-d97dada211ba",
   "metadata": {
    "jp-MarkdownHeadingCollapsed": true,
    "tags": []
   },
   "source": [
    "### IPython magic commands"
   ]
  },
  {
   "cell_type": "code",
   "execution_count": null,
   "id": "aafd3bd6-60d4-4af4-b80e-82efd80e1ada",
   "metadata": {},
   "outputs": [],
   "source": [
    "whos"
   ]
  },
  {
   "cell_type": "markdown",
   "id": "63cb22bf-2486-4196-aa22-caa68e67742d",
   "metadata": {
    "tags": []
   },
   "source": [
    "### Pathlib and data organization"
   ]
  },
  {
   "cell_type": "code",
   "execution_count": null,
   "id": "a8ce3922-b941-4f9e-be78-a977594099cb",
   "metadata": {},
   "outputs": [],
   "source": [
    "# Why use pathlib?"
   ]
  },
  {
   "cell_type": "markdown",
   "id": "dbab7b4d-6829-45f7-85e1-97833dc95170",
   "metadata": {
    "jp-MarkdownHeadingCollapsed": true,
    "tags": []
   },
   "source": [
    "## Level 3: Object-Oriented Programming, Rclone, Xarray, Dask"
   ]
  },
  {
   "cell_type": "markdown",
   "id": "3dd0d0a7-1528-4503-ad7c-832a87e651d5",
   "metadata": {},
   "source": [
    "In this level you will learn about:\n",
    "* Object-oriented programming and the basics of using classes\n",
    "* Using rclone to transfer data between remote and local destinations\n",
    "* Using xarray to easily work with large, multidimensional datasets\n",
    "* Using dask and file formats such as zarr and netCDF to efficiently load and save big datasets\n",
    "\n",
    "You will load, process, and plot example beamtime data. "
   ]
  },
  {
   "cell_type": "markdown",
   "id": "6ce836e2-d164-4010-a6ef-51c7958f432f",
   "metadata": {},
   "source": [
    "### Object-oriented programming"
   ]
  },
  {
   "cell_type": "code",
   "execution_count": null,
   "id": "1383a60a-4e97-4e77-8956-7c0fd2f5cc74",
   "metadata": {},
   "outputs": [],
   "source": [
    "# What are classes and why you should be familiar with them:"
   ]
  },
  {
   "cell_type": "markdown",
   "id": "23c0fc7a-69be-470f-a081-7ca20517444b",
   "metadata": {},
   "source": [
    "### Rclone"
   ]
  },
  {
   "cell_type": "code",
   "execution_count": null,
   "id": "39e14e04-6342-43fd-bdf7-33805893ace8",
   "metadata": {},
   "outputs": [],
   "source": [
    "# Rclone description, how it is useful in our workflows"
   ]
  },
  {
   "cell_type": "markdown",
   "id": "7708d2c7-f369-409c-b1ff-4329aeb9adab",
   "metadata": {},
   "source": [
    "### Xarray"
   ]
  },
  {
   "cell_type": "code",
   "execution_count": null,
   "id": "6f7986e0-9d39-49a7-b2f2-6513b16c9248",
   "metadata": {},
   "outputs": [],
   "source": [
    "# I don't use pandas too much anymore, mostly xarray now\n",
    "# Like pandas but n-dimensional and much more applicable for large dataset work"
   ]
  },
  {
   "cell_type": "markdown",
   "id": "ea87b7be-28ff-47d6-8829-b568ace39ca1",
   "metadata": {},
   "source": [
    "### Dask and zarr/netCDF "
   ]
  },
  {
   "cell_type": "code",
   "execution_count": null,
   "id": "2392212c-e3bb-4bf2-af6e-d36edbd2d5ee",
   "metadata": {},
   "outputs": [],
   "source": [
    "# Dask"
   ]
  },
  {
   "cell_type": "code",
   "execution_count": null,
   "id": "4c4f3be4-7c87-4c2c-a943-7fde76700f4b",
   "metadata": {},
   "outputs": [],
   "source": [
    "# Saving xarray dataarrays and/or datasets"
   ]
  },
  {
   "cell_type": "markdown",
   "id": "22b5b982-3478-44eb-a414-744e56b9a224",
   "metadata": {},
   "source": [
    "### Beamtime data example\n",
    "In this example, you are going to: \n",
    "1. Load an xarray DataArray of some time-resolved GIWAXS data from a .zarr store \n",
    "2. Plot a few slices/reductions of the data and save .png's"
   ]
  },
  {
   "cell_type": "code",
   "execution_count": null,
   "id": "2d28d828-b579-4afa-9879-0dc91d007cc1",
   "metadata": {},
   "outputs": [],
   "source": [
    "# Imports and paths:\n",
    "\n",
    "# Imports:\n",
    "import pathlib\n",
    "import numpy as np\n",
    "import matplotlib.pyplot as plt\n",
    "import xarray as xr\n",
    "\n",
    "# Paths:\n",
    "notebookPath = pathlib.Path.cwd()\n",
    "zarrPath = notebookPath.joinpath('trGIWAXS.zarr')"
   ]
  }
 ],
 "metadata": {
  "kernelspec": {
   "display_name": "Python 3 (ipykernel)",
   "language": "python",
   "name": "python3"
  },
  "language_info": {
   "codemirror_mode": {
    "name": "ipython",
    "version": 3
   },
   "file_extension": ".py",
   "mimetype": "text/x-python",
   "name": "python",
   "nbconvert_exporter": "python",
   "pygments_lexer": "ipython3",
   "version": "3.10.4"
  }
 },
 "nbformat": 4,
 "nbformat_minor": 5
}
