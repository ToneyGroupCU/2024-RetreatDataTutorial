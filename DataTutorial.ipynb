{
 "cells": [
  {
   "cell_type": "markdown",
   "id": "b2340224-5a0d-49ba-857b-24e51f0db5bf",
   "metadata": {},
   "source": [
    "# Toney Group Retreat 2024 - Professional Development - Data Workflows Tutorial "
   ]
  },
  {
   "cell_type": "markdown",
   "id": "3630ddf0-009d-43dd-ba07-ede2747db768",
   "metadata": {},
   "source": [
    "Introduction:\n",
    "\n",
    "This notebook has 3 different sections, which have different target audiences:\n",
    "* Level 1: For those that are unfamiliar with or new to using python, jupyter, and basic data science tools\n",
    "* Level 2: For everyone, relatively basic yet still useful and often overlooked tools\n",
    "* Level 3: For those that are already comfortable with the fundamentals of python data science work\n",
    "\n",
    "So if you're new or unfamiliar with python data science, then complete levels 1 and 2. \n",
    "If you're an advanced python data science user, then complete levels 2 and 3.  \n",
    "\n",
    "This tutorial notebook is to serve as a starting point and guide to various tools that we have found useful in our own data workflows. Additional references to learn more about any of the topics mentioned will be included at the end of each level section. "
   ]
  },
  {
   "cell_type": "markdown",
   "id": "247d4eac-00e1-4653-9d94-45b0ed48f5a1",
   "metadata": {},
   "source": [
    "## Level 1: Jupyter, NumPy, Matplotlib, and Pandas"
   ]
  },
  {
   "cell_type": "markdown",
   "id": "ddd5def5-1c9f-4be7-b6e8-221d5def03a6",
   "metadata": {},
   "source": [
    "In this level you will learn how to navigate jupyterlab and use the fundamental python data science packages numpy, matplotlib, and pandas. \n",
    "\n",
    "You will use these packages to load, process, and plot example beamtime data."
   ]
  },
  {
   "cell_type": "code",
   "execution_count": null,
   "id": "d58ef827-5974-4f91-a9ed-5d9b8b6f94dd",
   "metadata": {},
   "outputs": [],
   "source": []
  },
  {
   "cell_type": "markdown",
   "id": "864a7c85-6c58-49e1-a1ff-0d1ec9a477e0",
   "metadata": {},
   "source": [
    "## Level 2: Bash, Git (and GitHub), VS Code, IPython Magic, Pathlib & Data Organization"
   ]
  },
  {
   "cell_type": "markdown",
   "id": "4cb44bf7-0db9-44f7-a870-b048a71bd34c",
   "metadata": {},
   "source": [
    "In this level you will learn about:\n",
    "* Useful bash commands and information\n",
    "* Using git and github to version control your code\n",
    "* Using VS Code as your interactive development environment\n",
    "* IPython magic commands\n",
    "* Using pathlib and making data organization easier"
   ]
  },
  {
   "cell_type": "code",
   "execution_count": null,
   "id": "fc39bcf4-5d49-4df2-8c1d-d30edf8c4cac",
   "metadata": {},
   "outputs": [],
   "source": []
  },
  {
   "cell_type": "markdown",
   "id": "dbab7b4d-6829-45f7-85e1-97833dc95170",
   "metadata": {},
   "source": [
    "## Level 3: Object-Oriented Programming, Rclone, Xarray, Dask"
   ]
  },
  {
   "cell_type": "markdown",
   "id": "3dd0d0a7-1528-4503-ad7c-832a87e651d5",
   "metadata": {},
   "source": [
    "In this level you will learn about:\n",
    "* Object-oriented programming and the basics of using classes\n",
    "* Using rclone to transfer data between remote and local destinations\n",
    "* Using xarray to easily work with large, multidimensional datasets\n",
    "* Using dask and file formats such as zarr and netCDF to efficiently load and save big datasets\n",
    "\n",
    "You will load, process, and plot example beamtime data. "
   ]
  },
  {
   "cell_type": "code",
   "execution_count": null,
   "id": "c688abfe-9366-41c4-90f4-140df0141f88",
   "metadata": {},
   "outputs": [],
   "source": []
  }
 ],
 "metadata": {
  "kernelspec": {
   "display_name": "Python 3 (ipykernel)",
   "language": "python",
   "name": "python3"
  },
  "language_info": {
   "codemirror_mode": {
    "name": "ipython",
    "version": 3
   },
   "file_extension": ".py",
   "mimetype": "text/x-python",
   "name": "python",
   "nbconvert_exporter": "python",
   "pygments_lexer": "ipython3",
   "version": "3.10.4"
  }
 },
 "nbformat": 4,
 "nbformat_minor": 5
}
