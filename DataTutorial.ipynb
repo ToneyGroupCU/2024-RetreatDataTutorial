{
 "cells": [
  {
   "cell_type": "markdown",
   "id": "b2340224-5a0d-49ba-857b-24e51f0db5bf",
   "metadata": {},
   "source": [
    "# Toney Group Retreat 2024 | Professional Development \n",
    "\n",
    "## Data Workflow & Management Tutorial "
   ]
  },
  {
   "cell_type": "markdown",
   "id": "3630ddf0-009d-43dd-ba07-ede2747db768",
   "metadata": {},
   "source": [
    "Introduction:\n",
    "\n",
    "This notebook has 3 different sections, which have different target audiences:\n",
    "* Level 1: For those that are unfamiliar with or new to using python, jupyter, and basic data science tools\n",
    "* Level 2: For everyone, relatively basic yet still useful and often overlooked tools\n",
    "* Level 3: For those that are already comfortable with the fundamentals of python data science work\n",
    "\n",
    "So if you're new or unfamiliar with python data science, then complete levels 1 and 2. \n",
    "If you're an advanced python data science user, then complete levels 2 and 3.  \n",
    "\n",
    "This tutorial notebook is to serve as a starting point and guide to various tools that we have found useful in our own data workflows. Additional references to learn more about any of the topics mentioned will be included at the end of each level section. "
   ]
  },
  {
   "cell_type": "markdown",
   "id": "247d4eac-00e1-4653-9d94-45b0ed48f5a1",
   "metadata": {
    "tags": []
   },
   "source": [
    "# Level 1: Jupyter, NumPy, Matplotlib, and Pandas"
   ]
  },
  {
   "cell_type": "markdown",
   "id": "ddd5def5-1c9f-4be7-b6e8-221d5def03a6",
   "metadata": {},
   "source": [
    "In this level you will learn how to navigate jupyterlab and use the fundamental python data science packages numpy, matplotlib, and pandas. \n",
    "\n",
    "You will use these packages to load, process, and plot example beamtime data."
   ]
  },
  {
   "cell_type": "markdown",
   "id": "bca11230-8896-4480-ad1a-24b12b6a1741",
   "metadata": {
    "jp-MarkdownHeadingCollapsed": true,
    "tags": []
   },
   "source": [
    "## Jupyter \n",
    "\n",
    "Jupyter Notebooks and JupyterLab are interactive ways to use python in your data workflows. From __[Jupyter's website](https://jupyter.org/about)__:\n",
    "> \"Project Jupyter is a non-profit, open-source project, born out of the IPython Project in 2014 as it evolved to support interactive data science and scientific computing across all programming languages. Jupyter will always be 100% open-source software, free for all to use and released under the liberal terms of the modified BSD license.\"\n",
    "\n",
    "The following two subsections are from one of Michael Shirt's python class notebooks:"
   ]
  },
  {
   "cell_type": "markdown",
   "id": "1b351783-4cef-4f35-a8d0-e00644caaa77",
   "metadata": {
    "tags": []
   },
   "source": [
    "#### Entering data in Jupyter notebooks "
   ]
  },
  {
   "cell_type": "markdown",
   "id": "ad5cf4c0-3369-4f65-8be6-68660bfa2f56",
   "metadata": {},
   "source": [
    "This **notebook** is an interactive session. We just type the command `print(\"Hello, World.\")` and the press `Shift+Enter` to execute."
   ]
  },
  {
   "cell_type": "code",
   "execution_count": null,
   "id": "262f1b1f-4b31-4f52-9333-4b03dce4c12f",
   "metadata": {},
   "outputs": [],
   "source": [
    "print(\"Hello, World.\")"
   ]
  },
  {
   "cell_type": "markdown",
   "id": "cfb107c4-66f0-4490-9a4a-612ffc5c9146",
   "metadata": {},
   "source": [
    "The cells also show the results of the last statement, but not the previous ones."
   ]
  },
  {
   "cell_type": "code",
   "execution_count": null,
   "id": "5a8ff729-8159-4535-afc9-c71d203e0957",
   "metadata": {},
   "outputs": [],
   "source": [
    "x=8\n",
    "y=7\n",
    "print(y+1)\n",
    "print(x+1)\n",
    "x+1"
   ]
  },
  {
   "cell_type": "markdown",
   "id": "b4859bab-4064-492a-bb87-9432b28587ec",
   "metadata": {
    "tags": []
   },
   "source": [
    "#### Execution Order"
   ]
  },
  {
   "cell_type": "markdown",
   "id": "d79eb01c-6bf7-4dec-8d98-ffcf2403b40e",
   "metadata": {},
   "source": [
    "**Note**: When using Jupyter notebooks, it is very important to know that the cells can be executed out of order\n",
    "(intentionally or not). The state of the environment (e.g., values of variables, imports, etc.) is defined by the execution\n",
    "order, i.e. the order in which you run cells.  This can come back to bite you if you reopen a notebook and try to pick up where you left off! To see this, try running the cells below in different orders!"
   ]
  },
  {
   "cell_type": "code",
   "execution_count": null,
   "id": "87d14d8f-f58d-4b05-9b6f-b472d284b01b",
   "metadata": {},
   "outputs": [],
   "source": [
    "x=8"
   ]
  },
  {
   "cell_type": "code",
   "execution_count": null,
   "id": "e385b2dc-e5b7-4d17-990b-4def974908ba",
   "metadata": {},
   "outputs": [],
   "source": [
    "x=5"
   ]
  },
  {
   "cell_type": "code",
   "execution_count": null,
   "id": "9e8ef62c-2212-47ed-8797-43d72aa97bd8",
   "metadata": {},
   "outputs": [],
   "source": [
    "print(x)"
   ]
  },
  {
   "cell_type": "markdown",
   "id": "2158964a-435f-405b-ba77-66f0e7941bd6",
   "metadata": {},
   "source": [
    "This may seem problematic if you are used to programming in environments where the state is linked to the order of the commands as *written*, not as *executed*.\n",
    "\n",
    "**Again, notice that the state of the environment is determined by the execution order.**\n",
    "Note also that the square brackets to the left of the cell show the order that cells were executed. If you scroll to the top, you should see that the code cells show an execution order of `[1]` , `[4]` , and `[3]`, (or similar numbers) indicating the actual execution order.\n",
    "\n",
    "There are some useful menu commands at the top of the Jupyter notebook to help with these problems and make sure you retain the execution order as expected.\n",
    "\n",
    "Some important commands to remember:\n",
    "* You can clear the current state with the menu item `Kernel | Restart & Clear Output`\n",
    "* It is often useful to clear the state using the menu command just described, and then execute all the lines above the currently selected cell using `Cell | Run All Above` .\n",
    "* You can clear all the state and re-run the entire notebook using `Kernel | Restart & Run All`."
   ]
  },
  {
   "cell_type": "markdown",
   "id": "df949300-798e-4d96-9f70-f0a3652e940a",
   "metadata": {
    "tags": []
   },
   "source": [
    "#### Navigating Jupyter Notebook Cells"
   ]
  },
  {
   "cell_type": "markdown",
   "id": "f5f1c080-6b68-4c80-badd-410388ae6385",
   "metadata": {},
   "source": [
    "When working in Jupyter notebooks, you will frequently want to add or modify cells as your notebook grows. \n",
    "\n",
    "There are buttons at the top of the notebook to add cells, copy cells, paste cells, run cells and more (hovering over each button tells you what it does). However, it is much faster and convenient to use keyboard shortcuts to accomplish the majority of these functions:\n",
    "\n",
    "1. `esc` = move cursor out of text editing mode within the cell to select cells mode\n",
    "2. `enter` = move cursor into selected cell \n",
    "<br>When in select cells mode:\n",
    "3. `A` = add cell above selected cell\n",
    "4. `B` = add cell below selected cell\n",
    "5. `Arrow-key-up`, `Arrow-key-down` = select cells up or down\n",
    "6. `D,D` = delete selected cell (press 'D' twice)\n",
    "\n",
    "Jupyter encourages the use of these and other keyboard shortcuts for improved productivity and ease of use. Try creating, deleting, editing, and selecting various cells below. You can always press `CMD+Z` or `CTRL+Z` to undo any actions (also in `Edit | Undo`)"
   ]
  },
  {
   "cell_type": "code",
   "execution_count": null,
   "id": "fcfa5159-364a-491e-8086-f54f680e1a4f",
   "metadata": {},
   "outputs": [],
   "source": [
    "# add a cell above me, then delete it and this cell"
   ]
  },
  {
   "cell_type": "code",
   "execution_count": null,
   "id": "3648a6a0-fbe6-43ed-a6e4-558bac39f311",
   "metadata": {},
   "outputs": [],
   "source": [
    "# write something else in here, then add a cell below it"
   ]
  },
  {
   "cell_type": "markdown",
   "id": "873a9695-03eb-42a0-a112-521ec2582540",
   "metadata": {
    "tags": []
   },
   "source": [
    "#### Navigating the JupyterLab sidebar"
   ]
  },
  {
   "cell_type": "markdown",
   "id": "fc9621cc-901b-45d4-9892-728871f4717e",
   "metadata": {},
   "source": [
    "You may have already noticed the sidebar to the left when working in JupyterLab, there are 4 different tabs by default:\n",
    "1. `File Browser`\n",
    "    <br> Navigate around directories within the directory where you launched JupyterLab. You double-click on folders to move the file browser to inside that folder and on files to view their contents in new tabs. JupyterLab can view .ipynb Jupyter notebooks, .py python scripts, most types of text files, many image types, and more. \n",
    "    <br>**Useful tip:** You can go into `File | Open from Path` to open a path directly. This can save you lots of time when working with multiple directories.\n",
    "    \n",
    "2. `Running Terminals and Kernels`\n",
    "    <br>Shows open tabs, kernels, and terminals. Kernels refers to the running python environment for active notebooks, which also contain any loaded objects if the notebook has been ran. Kernels store their variables in your computer's RAM, so it is good to manage them to make sure you don't have any that are becoming too large in memory or many open simultaneously. \n",
    "    <br> Terminals shows you any open terminal tabs. \n",
    "    \n",
    "3. `Table of Contents`\n",
    "    <br> Shows an outline of all the section headers within a notebook. Useful for quickly navigating around notebooks!\n",
    "    \n",
    "4. `Extension Manager`\n",
    "    <br> Here you can install extensions to potentially enhance your local JupyterLab setup. "
   ]
  },
  {
   "cell_type": "code",
   "execution_count": null,
   "id": "0bb3d777-5dff-4df0-8442-8dd3305b05f4",
   "metadata": {},
   "outputs": [],
   "source": [
    "# Check all of the sidebar menus out now!"
   ]
  },
  {
   "cell_type": "markdown",
   "id": "1f8b8040-7860-4668-b77d-d5572249ea71",
   "metadata": {
    "jp-MarkdownHeadingCollapsed": true,
    "tags": []
   },
   "source": [
    "## NumPy, Matplotlib, and Pandas\n",
    "This section will demonstrate some very basic ways to use numpy, matplotlib, and pandas. This  __[online data analysis handbook](https://jakevdp.github.io/PythonDataScienceHandbook/)__ is a great resource for learning about these tools in more depth when you're starting out. \n",
    "Some excerpts from the linked handbook for some context are below:\n",
    "> \"NumPy (short for Numerical Python) provides an efficient interface to store and operate on dense data buffers. In some ways, NumPy arrays are like Python's built-in list type, but NumPy arrays provide much more efficient storage and data operations as the arrays grow larger in size. NumPy arrays form the core of nearly the entire ecosystem of data science tools in Python, so time spent learning to use NumPy effectively will be valuable no matter what aspect of data science interests you.\"\n",
    "\n",
    "> \"Matplotlib is a multi-platform data visualization library built on NumPy arrays, and designed to work with the broader SciPy stack. It was conceived by John Hunter in 2002, originally as a patch to IPython for enabling interactive MATLAB-style plotting via gnuplot from the IPython command line. IPython's creator, Fernando Perez, was at the time scrambling to finish his PhD, and let John know he wouldn’t have time to review the patch for several months. John took this as a cue to set out on his own, and the Matplotlib package was born, with version 0.1 released in 2003.\"\n",
    "\n",
    "> \"Pandas is a newer package built on top of NumPy, and provides an efficient implementation of a DataFrame. DataFrames are essentially multidimensional arrays with attached row and column labels, and often with heterogeneous types and/or missing data. As well as offering a convenient storage interface for labeled data, Pandas implements a number of powerful data operations familiar to users of both database frameworks and spreadsheet programs.\""
   ]
  },
  {
   "cell_type": "code",
   "execution_count": null,
   "id": "6b3ee2f9-17e7-400b-97c7-381aef726275",
   "metadata": {},
   "outputs": [],
   "source": [
    "# Numpy basics"
   ]
  },
  {
   "cell_type": "code",
   "execution_count": null,
   "id": "b3d10a0d-9e6f-4d63-bacb-3db2a6e3c8a5",
   "metadata": {},
   "outputs": [],
   "source": [
    "# Matplotlib basics"
   ]
  },
  {
   "cell_type": "code",
   "execution_count": null,
   "id": "f5440816-bef5-4e86-a475-50fbd7b4cbab",
   "metadata": {},
   "outputs": [],
   "source": [
    "# Pandas basics"
   ]
  },
  {
   "cell_type": "markdown",
   "id": "e9128ce4-3543-48a1-af7d-8790cb881c5e",
   "metadata": {
    "tags": []
   },
   "source": [
    "### Beamtime Data Example\n",
    "In this example, you are going to: \n",
    "1. Load some NEXAFS data from a .txt file into a numpy array\n",
    "2. Plot it and save a .png file of the plot\n",
    "3. Make a pandas dataframe and plot it again\n",
    "4. Save a .csv file of the same data now with column headers"
   ]
  },
  {
   "cell_type": "code",
   "execution_count": null,
   "id": "3f3ac08b-cec1-447b-b6ff-3db3f54afbba",
   "metadata": {},
   "outputs": [],
   "source": [
    "# The first steps are to import the necessary packages and definte relevant paths:\n",
    "\n",
    "# Imports\n",
    "import pathlib\n",
    "import numpy as np\n",
    "import pandas as pd\n",
    "import matplotlib.pyplot as plt\n",
    "\n",
    "# Define paths:\n",
    "notebookPath = pathlib.Path.cwd()\n",
    "nexafsPath = notebookPath.joinpath('Y6_nexafs_data.txt')"
   ]
  },
  {
   "cell_type": "code",
   "execution_count": null,
   "id": "297aedca-29f9-4e00-92be-d32781bd558d",
   "metadata": {},
   "outputs": [],
   "source": [
    "# Now lets load the nexafs data using np.loadtxt()\n",
    "\n",
    "# nexafs_data = np.loadtxt(nexafsPath)\n",
    "# nexafs_data"
   ]
  },
  {
   "cell_type": "code",
   "execution_count": null,
   "id": "cee2d84c-92ff-416a-915e-242bb83d540b",
   "metadata": {},
   "outputs": [],
   "source": [
    "# nexafs_data.shape"
   ]
  },
  {
   "cell_type": "markdown",
   "id": "8c3fc99b-d9a7-4ef6-be77-30c4f2305689",
   "metadata": {},
   "source": [
    "Notice that the nexafs_data numpy array has the shape (X rows, Y columns). This data is NEXAFS data of a pure film of the small molecule acceptor Y6, a common high performance material used in organic photovoltaics. The first column is the X-ray energy and the remaining columns are the \\$\\theta$ angle, the angle between the X-ray polarization and the substrate normal. <br> The columns are [energy, 20°, 30°, 55°, 70°, and 90°]"
   ]
  },
  {
   "cell_type": "code",
   "execution_count": null,
   "id": "b5df0641-4213-428c-a84c-e3a181d2cc83",
   "metadata": {},
   "outputs": [],
   "source": [
    "# Make a simple plot with matplotlib "
   ]
  },
  {
   "cell_type": "code",
   "execution_count": null,
   "id": "2b130024-6275-46df-beeb-831e938fcd29",
   "metadata": {},
   "outputs": [],
   "source": [
    "# Customize the plot and save it"
   ]
  },
  {
   "cell_type": "code",
   "execution_count": null,
   "id": "c503f5e3-1a01-4f41-90ec-62726fb5ff15",
   "metadata": {},
   "outputs": [],
   "source": [
    "# Make a pandas dataframe"
   ]
  },
  {
   "cell_type": "code",
   "execution_count": null,
   "id": "bff32d86-d223-43ce-b571-79022c90c030",
   "metadata": {},
   "outputs": [],
   "source": [
    "# Plot using the dataframe"
   ]
  },
  {
   "cell_type": "code",
   "execution_count": null,
   "id": "eb12eddf-db0e-473f-b32d-7c629d29987b",
   "metadata": {},
   "outputs": [],
   "source": [
    "# Save a .csv file from the pandas dataframe"
   ]
  },
  {
   "cell_type": "markdown",
   "id": "864a7c85-6c58-49e1-a1ff-0d1ec9a477e0",
   "metadata": {
    "jp-MarkdownHeadingCollapsed": true,
    "tags": []
   },
   "source": [
    "# Level 2: Bash, Git (and GitHub), VS Code, IPython Magic, Pathlib & Data Organization"
   ]
  },
  {
   "cell_type": "markdown",
   "id": "4cb44bf7-0db9-44f7-a870-b048a71bd34c",
   "metadata": {},
   "source": [
    "In this level you will learn about:\n",
    "* Useful bash commands and information\n",
    "* Using git and github to version control your code\n",
    "* Using VS Code as your interactive development environment\n",
    "* IPython magic commands\n",
    "* Using pathlib and making data organization easier"
   ]
  },
  {
   "cell_type": "markdown",
   "id": "816a4553-ee71-4a89-94e1-6ca9a8e191c3",
   "metadata": {
    "jp-MarkdownHeadingCollapsed": true,
    "tags": []
   },
   "source": [
    "## Bash (Terminal) Commands"
   ]
  },
  {
   "cell_type": "markdown",
   "id": "fa1104ef",
   "metadata": {},
   "source": [
    "### Navigating Directories in Bash\n",
    "\n",
    "Bash (Bourne Again SHell) is a powerful command-line interpreter used in Unix-based systems. It's essential for file system navigation, program execution, and managing user environments. Let's start by learning some basic directory navigation commands.\n",
    "\n",
    "Using the `!` prefix, we can run simple Bash-specific syntax using iPython magic commands.\n",
    "```bash\n",
    "    !pwd\n",
    "```\n",
    "\n",
    "In the bash terminal, this would simply be:\n",
    "```bash\n",
    "    pwd\n",
    "```\n"
   ]
  },
  {
   "cell_type": "code",
   "execution_count": 4,
   "id": "fc06ddff",
   "metadata": {},
   "outputs": [
    {
     "name": "stdout",
     "output_type": "stream",
     "text": [
      "/Users/keithwhite/2024-RetreatDataTutorial\n"
     ]
    }
   ],
   "source": [
    "# Print the current working directory\n",
    "!pwd"
   ]
  },
  {
   "cell_type": "markdown",
   "id": "3d5a1a57",
   "metadata": {},
   "source": [
    "#### The `ls` Command\n",
    "\n",
    "The `ls` command lists the contents of a directory. By default, it shows the contents of the current directory."
   ]
  },
  {
   "cell_type": "code",
   "execution_count": 5,
   "id": "3705f310",
   "metadata": {
    "vscode": {
     "languageId": "shellscript"
    }
   },
   "outputs": [
    {
     "name": "stdout",
     "output_type": "stream",
     "text": [
      "DataTutorial.ipynb \u001b[34mbash\u001b[m\u001b[m               retreat.yml\n",
      "README.md          \u001b[34mexample_xarray\u001b[m\u001b[m\n"
     ]
    }
   ],
   "source": [
    "# List contents of the current directory\n",
    "!ls"
   ]
  },
  {
   "cell_type": "markdown",
   "id": "77201b35",
   "metadata": {},
   "source": [
    "For this next section, navigative to your terminal to test out some  bash commands. "
   ]
  },
  {
   "cell_type": "markdown",
   "id": "a186f177",
   "metadata": {},
   "source": [
    "### Navigating to a Different Directory via `cd`\n",
    "\n",
    "To change our current working directory, we use the `cd` (change directory) command followed by the path of the target directory.\n",
    "\n",
    "Change directory to a specific directory (replace 'folder_name' with an actual directory name)\n",
    "```bash\n",
    "    cd foldername/\n",
    "```\n",
    "Note that we can't use `!cd` in Python here, because Jupyter will reset the state of the temporary subshell after the command is execute. "
   ]
  },
  {
   "cell_type": "markdown",
   "id": "5386ff57",
   "metadata": {},
   "source": [
    "### Returning to the Parent Directory via `cd ..`\n",
    "\n",
    "To go back to the parent directory (one level up), we use `cd ..`\n"
   ]
  },
  {
   "cell_type": "markdown",
   "id": "ea29a0da",
   "metadata": {},
   "source": [
    "### Exploring Other Directory Navigation Commands\n",
    "\n",
    "Besides `cd` and `ls`, there are other commands and syntaxes useful for navigating the file system. For instance, `cd -` takes you to the last directory you were in.\n"
   ]
  },
  {
   "cell_type": "code",
   "execution_count": null,
   "id": "18d0c8f6-0777-4f23-b673-7fdde3a509dd",
   "metadata": {},
   "outputs": [],
   "source": [
    "# Tar"
   ]
  },
  {
   "cell_type": "markdown",
   "id": "65a92753",
   "metadata": {},
   "source": [
    "### Setting Permissions for a Bash Script\n",
    "\n",
    "Before running a Bash script, it's necessary to ensure it has the appropriate execution permissions. This is done using the `chmod` command. The `+x` option gives execution permission to the user.\n",
    "\n",
    "To add execution permissions to our script `tarfolder.sh`, use the following command:\n"
   ]
  },
  {
   "cell_type": "code",
   "execution_count": null,
   "id": "e2c4b5e8",
   "metadata": {
    "vscode": {
     "languageId": "shellscript"
    }
   },
   "outputs": [],
   "source": [
    "chmod +x tarfolder.sh"
   ]
  },
  {
   "cell_type": "markdown",
   "id": "97ce4ec0",
   "metadata": {},
   "source": [
    "### Navigating to the Script's Location\n",
    "\n",
    "To run the script, you first need to navigate to the directory where `tarfolder.sh` is located. This can be done using the `cd` (change directory) command. Replace `/path/to/script` with the actual path to your script.\n",
    "\n",
    "For example, if `tarfolder.sh` is in your home directory under `bash`, the command would be:\n"
   ]
  },
  {
   "cell_type": "code",
   "execution_count": 22,
   "id": "f2fe90f7",
   "metadata": {
    "vscode": {
     "languageId": "shellscript"
    }
   },
   "outputs": [
    {
     "name": "stdout",
     "output_type": "stream",
     "text": [
      "[Errno 2] No such file or directory: '/Users/keithwhite/bash'\n",
      "/Users/keithwhite/2024-RetreatDataTutorial\n"
     ]
    }
   ],
   "source": [
    "cd ~/bash"
   ]
  },
  {
   "cell_type": "markdown",
   "id": "bbbd0ef9",
   "metadata": {},
   "source": [
    "In my case, /bash/ is located here `/Users/myname/2024-RetreatDataTutorial/bash`"
   ]
  },
  {
   "cell_type": "code",
   "execution_count": 23,
   "id": "f85a6fad",
   "metadata": {
    "vscode": {
     "languageId": "shellscript"
    }
   },
   "outputs": [
    {
     "name": "stdout",
     "output_type": "stream",
     "text": [
      "/Users/keithwhite/2024-RetreatDataTutorial/bash\n"
     ]
    }
   ],
   "source": [
    "cd /Users/keithwhite/2024-RetreatDataTutorial/bash"
   ]
  },
  {
   "cell_type": "markdown",
   "id": "d248a58e",
   "metadata": {},
   "source": [
    "### Running the Script\n",
    "\n",
    "After navigating to the script's directory and ensuring it has the appropriate permissions, you can run the script. To execute `tarfolder.sh`, use the following command:\n",
    "\n",
    "Note: If the script requires administrative privileges, you may need to prefix the command with `sudo`.\n",
    "\n",
    "Also note that this command will fail in Jupyter. You'll need to navigate to the script, grant the permissions, and run it from the terminal using bash.\n"
   ]
  },
  {
   "cell_type": "code",
   "execution_count": null,
   "id": "f8585fa5",
   "metadata": {
    "vscode": {
     "languageId": "shellscript"
    }
   },
   "outputs": [],
   "source": [
    "./tarfolder.sh"
   ]
  },
  {
   "cell_type": "markdown",
   "id": "0d28c8a7",
   "metadata": {},
   "source": [
    "## Tar .tgz Files\n"
   ]
  },
  {
   "cell_type": "markdown",
   "id": "fdbecd85",
   "metadata": {},
   "source": [
    "The `.tgz` file extension represents a compressed archive created using the `tar` command in Unix and Linux systems. The `tgz` is a shorthand for `.tar.gz`, which indicates that the file is a TAR archive compressed with GNU zip (gzip). These files are often used for distribution and backup purposes, combining multiple files into a single, compressed file to save space and make transfer easier."
   ]
  },
  {
   "cell_type": "markdown",
   "id": "08a70c64",
   "metadata": {},
   "source": [
    "### Creating a .tgz File\n",
    "\n",
    "To create a .tgz file, you use the `tar` command with specific options:\n",
    "- `-c` to create an archive.\n",
    "- `-z` to gzip compress the archive.\n",
    "- `-v` to enable verbose mode, which shows details about the operation.\n",
    "- `-f` followed by the filename, to specify the name of the archive.\n",
    "\n",
    "For example, to create a compressed archive of a folder named `example_folder`, the command would be:\n"
   ]
  },
  {
   "cell_type": "code",
   "execution_count": null,
   "id": "a1c8422b",
   "metadata": {
    "vscode": {
     "languageId": "shellscript"
    }
   },
   "outputs": [],
   "source": [
    "tar -czvf example_folder.tgz example_folder"
   ]
  },
  {
   "cell_type": "markdown",
   "id": "9705cf6e",
   "metadata": {},
   "source": [
    "### Unpacking a .tgz File\n",
    "\n",
    "To extract the contents of a .tgz file, the `tar` command is used with different options:\n",
    "- `-x` to extract files from an archive.\n",
    "- `-z` to uncompress a gzip compressed archive.\n",
    "- `-v` for verbose mode.\n",
    "- `-f` followed by the filename of the archive.\n",
    "\n",
    "For instance, to extract the contents of `example_folder.tgz`, the following command is used:\n"
   ]
  },
  {
   "cell_type": "code",
   "execution_count": null,
   "id": "fe0fcf54",
   "metadata": {
    "vscode": {
     "languageId": "shellscript"
    }
   },
   "outputs": [],
   "source": [
    "tar -xzvf example_folder.tgz"
   ]
  },
  {
   "cell_type": "markdown",
   "id": "c3865726-7da4-45d4-838c-f5616e9369b3",
   "metadata": {
    "jp-MarkdownHeadingCollapsed": true,
    "tags": []
   },
   "source": [
    "## Git and GitHub"
   ]
  },
  {
   "cell_type": "code",
   "execution_count": null,
   "id": "07bdd61a-fa48-4f2c-af9b-b941e0892b79",
   "metadata": {},
   "outputs": [],
   "source": [
    "# Git"
   ]
  },
  {
   "cell_type": "code",
   "execution_count": null,
   "id": "070edca3-938e-4335-a3a5-c0e13d13dab5",
   "metadata": {},
   "outputs": [],
   "source": [
    "# GitHub"
   ]
  },
  {
   "cell_type": "markdown",
   "id": "1c405290-ce8b-43f2-bd76-d97dada211ba",
   "metadata": {
    "jp-MarkdownHeadingCollapsed": true,
    "tags": []
   },
   "source": [
    "## IPython Magic Commands"
   ]
  },
  {
   "cell_type": "code",
   "execution_count": null,
   "id": "aafd3bd6-60d4-4af4-b80e-82efd80e1ada",
   "metadata": {},
   "outputs": [],
   "source": [
    "whos"
   ]
  },
  {
   "cell_type": "markdown",
   "id": "63cb22bf-2486-4196-aa22-caa68e67742d",
   "metadata": {
    "jp-MarkdownHeadingCollapsed": true,
    "tags": []
   },
   "source": [
    "## Pathlib Module & Data Organization"
   ]
  },
  {
   "cell_type": "code",
   "execution_count": null,
   "id": "a8ce3922-b941-4f9e-be78-a977594099cb",
   "metadata": {},
   "outputs": [],
   "source": [
    "# Why use pathlib?"
   ]
  },
  {
   "cell_type": "markdown",
   "id": "73b6b9fb",
   "metadata": {},
   "source": [
    "## YAML (.yml) Files: Exporting & Installing from YAMLs"
   ]
  },
  {
   "cell_type": "markdown",
   "id": "27af97ed",
   "metadata": {},
   "source": [
    "#### Installing an Environment from a `.yml` File\n",
    "\n",
    "NOTE: `retreat.yml` was exported from a Mac, so the install will likely not work on Windows (we could try it anyway though).\n",
    "\n",
    "To recreate a Conda environment from a `.yml` file, follow these steps. This is useful when you want to replicate an environment with all its dependencies on a different machine or share it with others.\n",
    "\n",
    "1. **Locate the `.yml` File:**\n",
    "   Ensure that you have the `.yml` file, such as `retreat.yml`, which contains the environment specifications.\n",
    "\n",
    "2. **Open Terminal or Anaconda Prompt:**\n",
    "   Open your terminal (or Anaconda Prompt if you're using Windows).\n",
    "\n",
    "3. **Navigate to the `.yml` File Directory (if necessary):**\n",
    "   Use the `cd` command to navigate to the directory containing the `.yml` file.\n",
    "   ```bash\n",
    "   cd path/to/directory\n",
    "   ```\n",
    "\n",
    "4. **Run the comamnd to create an environment from the `.yml` file.**\n",
    "   ```bash\n",
    "   conda env create -f retreat.yml\n",
    "   ```\n"
   ]
  },
  {
   "cell_type": "markdown",
   "id": "4a175dd8",
   "metadata": {},
   "source": [
    "#### Exporting an Environment to a `.yml` File\n",
    "\n",
    "Exporting a Conda environment to a `.yml` file is useful for sharing your environment with others, version control, or replicating the environment elsewhere. Here's how to do it:\n",
    "\n",
    "1. **Open Terminal or Anaconda Prompt:**\n",
    "   Open your terminal (or Anaconda Prompt if you're using Windows).\n",
    "\n",
    "2. **Activate the Environment:**\n",
    "   First, activate the Conda environment that you want to export.\n",
    "   ```bash\n",
    "   conda activate your_environment_name\n",
    "   ```\n",
    "\n",
    "3. **Export the Environment:**\n",
    "   Run the following command from you environment, ideally the export filename has the same filename as the environment, otherwise the contents of the `.yml` will have to be manually updated so that the filename.yml and environment name in the `.yml` file match one another.\n",
    "   ```bash\n",
    "   conda env export > environment_name.yml\n",
    "   ```\n"
   ]
  },
  {
   "cell_type": "markdown",
   "id": "dbab7b4d-6829-45f7-85e1-97833dc95170",
   "metadata": {
    "tags": []
   },
   "source": [
    "# Level 3: Object-Oriented Programming, Rclone, Xarray, Dask"
   ]
  },
  {
   "cell_type": "markdown",
   "id": "3dd0d0a7-1528-4503-ad7c-832a87e651d5",
   "metadata": {},
   "source": [
    "In this level you will learn about:\n",
    "* Object-oriented programming and the basics of using classes\n",
    "* Using rclone to transfer data between remote and local destinations\n",
    "* Using xarray to easily work with large, multidimensional datasets\n",
    "* Using dask and file formats such as zarr and netCDF to efficiently load and save big datasets\n",
    "\n",
    "You will load, process, and plot example beamtime data. "
   ]
  },
  {
   "cell_type": "markdown",
   "id": "6ce836e2-d164-4010-a6ef-51c7958f432f",
   "metadata": {},
   "source": [
    "## Class-Based (object-oriented) Programming"
   ]
  },
  {
   "cell_type": "markdown",
   "id": "0fdb8d92",
   "metadata": {},
   "source": [
    "Classes are a fundamental component of object-oriented programming in Python. They allow us to create objects that encapsulate both data and functions that operate on that data. This encapsulation makes code more modular and reusable.\n",
    "\n",
    "In this notebook, we will explore:\n",
    "1. An advanced example of a class used in data analysis. (We will start with a hard/useful example for motivation, then move on to a simple example.)\n",
    "2. Basics of class-based coding with a simple example.\n",
    "3. Key concepts such as attributes, the `__init__` method, other useful dunder methods, static methods, and inheritance."
   ]
  },
  {
   "cell_type": "markdown",
   "id": "71707133",
   "metadata": {},
   "source": [
    "### Advanced Example: Data Analysis Class\n",
    "\n",
    "We will start with a complex yet relevant example that illustrates the skeleton of a class you might design for data analysis and handling metadata. \n",
    "\n",
    "This class, `DataAnalyzer`, would have methods for data manipulation, metadata management, and basic statistical analysis.\n"
   ]
  },
  {
   "cell_type": "code",
   "execution_count": null,
   "id": "1383a60a-4e97-4e77-8956-7c0fd2f5cc74",
   "metadata": {},
   "outputs": [],
   "source": [
    "import xarray as xr\n",
    "\n",
    "class DataReduction:\n",
    "    def __init__(self, \n",
    "                 dataPath, \n",
    "                 metaPath, \n",
    "                 poniPath, \n",
    "                 maskPath):\n",
    "        \n",
    "        self.dataPath = dataPath # path for your data.\n",
    "        self.metaPath = metaPath # path for your metadata, if it has a path.\n",
    "        self.poniPath = poniPath # path for your PONI file from calibrant.\n",
    "        self.maskPath = maskPath # path for your detector mask.\n",
    "        \n",
    "        self.data = self.extractData(self.dataPath)\n",
    "        self.extractMetaData()\n",
    "\n",
    "    def extractData(self):\n",
    "        # Extract data from the specific file-type at the dataPath.\n",
    "        # Example: Check the file extension, for .tiff use one extraction method, for .csv use another, for .txt use a third, etc. \n",
    "        # Create an xarray DataArray. Extract the data to an xarray DataArray.\n",
    "        data = xr.DataArray()\n",
    "\n",
    "        return data\n",
    "\n",
    "    def extractMetaData(self):\n",
    "        # Extract metadata from the metadata path.\n",
    "        # Example: If there is no .yml file specified, the program looks for metadata in the dataPath data header. Strip the metadata accordingly. \n",
    "        # Assign metadata as attributes to the xarray DataArray containing the corresponding data. Assign coordinates to the DataArray if available.\n",
    "        pass\n",
    "        \n",
    "    def updateCoords(self, xcoord, ycoord):\n",
    "        # Assign or Update the x- and y-coordinates of the DataArray. If there are already coordinates from the metadata extraction, use those coordinates.\n",
    "        pass\n",
    "\n",
    "    def updateTransform(self, poniPath, maskPath, rotation, incidence_angle):\n",
    "        # Create the pygix Transform() object. Rotate it, and apply the incidence angle.\n",
    "        pass\n",
    "\n",
    "    def updateCorrInfo(self):\n",
    "        # Apply the image corrections and obtain a DataArray of the corrected data.\n",
    "        pass\n",
    "\n",
    "    def recipTransform(self):\n",
    "        # Run the reciprocal space map image transformation method.\n",
    "        pass\n",
    "\n",
    "    def cakedTransform(self):\n",
    "        # Run the reciprocal space caked image transformation.\n",
    "        pass\n",
    "\n",
    "    def integrateData(self):\n",
    "        # Integrate the post-corrected dataset. Provide options for raw v. corrected.\n",
    "        pass\n",
    "\n",
    "    def corrSettings(self):\n",
    "        # Update data image correction settings: polarization, integration, incidence angle, rotation, etc.\n",
    "        pass\n",
    "\n",
    "    # Plotting methods here."
   ]
  },
  {
   "cell_type": "markdown",
   "id": "4fce387b",
   "metadata": {},
   "source": [
    "### Basic Concepts in Class-Based Coding\n",
    "\n",
    "Now, let's break down the basics of class-based coding with a simpler example. We will create a class that handles different variants of monsters in a video game. \n",
    "\n",
    "This will help us understand key concepts, such as:\n",
    "* (a) Attributes: `self.attributenamehere`\n",
    "* (b) Initialization: `__init__`\n",
    "* (c) Methods: `def function(self):`\n",
    "* (d) Instantiation: (usage of the class - for example, in Jupyter)\n",
    "* (e) Dunder Methods: `__str__`, `__eq__`, `__lt__`\n",
    "* (f) Static Methods: `@staticmethod`\n",
    "* (g) Inheritance: (e.g., class FireMonster(Monster))"
   ]
  },
  {
   "cell_type": "markdown",
   "id": "8574df8b",
   "metadata": {},
   "source": [
    "Here is an example of a class used to generalize the features and actions of a `Monster` that you might encounter in a video game. \n",
    "\n",
    "We will go through all of the details of this code step-by-step, don't let the size of the example class be overwhelming."
   ]
  },
  {
   "cell_type": "code",
   "execution_count": null,
   "id": "22d51d18",
   "metadata": {},
   "outputs": [],
   "source": [
    "import random\n",
    "\n",
    "class Monster:\n",
    "    # Initialize all of the attributes of the unique Monster class instance.\n",
    "    def __init__(self, \n",
    "                 name = None, \n",
    "                 level = None, \n",
    "                 weapon = None, \n",
    "                 playerlevel = 1):\n",
    "        \n",
    "        self.name = name # Set the class 'self.name' attribute as the input 'name' variable.\n",
    "        self.level = level # Set the class 'self.level' attribute as the input 'level' variable.\n",
    "        self.weapon = weapon # Set the class 'self.level' attribute as the input 'weapon' variable.\n",
    "        \n",
    "        self.playerlevel = playerlevel # Attribute for the player's level, for calculating the Monster's power and health levels.\n",
    "\n",
    "        self.healthbar = self.healthbar() # Calculate the healthbar based on the self.name, self.level, self.weapon attributes.\n",
    "        self.powerlevel = self.powerlevel() # Calculate the powerlevel based on the self.name, self.level, self.weapon attributes.\n",
    "        self.magiclevel = self.magiclevel() # Calculate the magiclevel based on the self.name, self.level, self.weapon attributes.\n",
    "\n",
    "    def healthbar(self):\n",
    "        # Base health depends on the player level.\n",
    "        base_health = 100 * self.playerlevel\n",
    "        \n",
    "        # Health is generally higher for stronger monsters.\n",
    "        health_multiplier = {\"Dragon\": 5, \"Werewolf\": 4, \"Zombie\": 2, \"Goblin\": 1}\n",
    "\n",
    "        # Calculate the health level.\n",
    "        return base_health * health_multiplier.get(self.name, 1) * self.level\n",
    "\n",
    "    def powerlevel(self):\n",
    "        # Power level depends on the monster type and weapon.\n",
    "        weapon_power = {\"sword\": 10, \n",
    "                        \"bow and arrow\": 8, \n",
    "                        \"mace\": 6, \n",
    "                        \"staff\": 4, \n",
    "                        \"iron jaw\": 12, \n",
    "                        \"none\": 0}\n",
    "        \n",
    "        # The Monster subclass derivations corresponding to the four monster types,\n",
    "        # 'Dragon', 'Werewolf', 'Zombie', 'Goblin', determines what weapon it has.\n",
    "\n",
    "        return self.level * weapon_power.get(self.weapon, 0)\n",
    "\n",
    "    def magiclevel(self):\n",
    "        # Magic level varies by monster type\n",
    "        magic_base = {\"Dragon\": 100, \n",
    "                      \"Werewolf\": 50, \n",
    "                      \"Zombie\": 20, \n",
    "                      \"Goblin\": 10}\n",
    "        \n",
    "        # Dragons > Werewolf > Zombie > Goblin\n",
    "        return magic_base.get(self.name, 0)\n",
    "\n",
    "    def attacks(self):\n",
    "        attack_types = {\n",
    "            \"Dragon\": [\"breathes fire\", \"bites\", \"stomps\"],\n",
    "            \"Werewolf\": [\"slashes\", \"bites\"],\n",
    "            \"Zombie\": [\"bites\", \"slashes\"],\n",
    "            \"Goblin\": [\"slashes\"]\n",
    "        }\n",
    "        \n",
    "        # Enemies attack randomly from their list of attacks.\n",
    "        # You can see how we can easily make the attack selection more complicated with player feedback.\n",
    "        attack = random.choice(attack_types.get(self.name, [\"attacks\"]))\n",
    "\n",
    "        print(f\"{self.name} {attack} with level {self.level} power!\")\n",
    "\n",
    "    def defenses(self):\n",
    "        # Define defenses based on monster type\n",
    "        pass\n",
    "\n",
    "    def movement(self):\n",
    "        # Movement style depends on the monster type (e.g., dragons can fly)\n",
    "        pass\n",
    "\n",
    "    def damagecalc(self, playerattackpower):\n",
    "        # Calculate damage based on enemy attack power\n",
    "        damage = playerattackpower - self.powerlevel\n",
    "\n",
    "        # This method would get called when the player object interacts with the monster object.\n",
    "        # We would update the healthbar based on the monster powerlevel and player attack power.\n",
    "        self.healthbar = max(self.healthbar - damage, 0)\n",
    "\n",
    "    def __str__(self):\n",
    "        return f\"Monster({self.name}, Level {self.level}, Health: {self.healthbar})\"\n",
    "\n",
    "    def __eq__(self, other):\n",
    "        return self.name == other.name and self.level == other.level\n",
    "\n",
    "    def __lt__(self, other):\n",
    "        return self.level < other.level"
   ]
  },
  {
   "cell_type": "markdown",
   "id": "c5ebcdfc",
   "metadata": {},
   "source": [
    "### a) Attributes and b) the `__init__` Method\n",
    "\n",
    "Attributes are variables that belong to a class. The `__init__` method is a special method in Python classes. It is run as soon as an object of a class is instantiated. The method is useful to do any initialization you want to do with your object.\n",
    "\n",
    "In our `Monster` class, `name` and `level` are attributes, and they are initialized in the `__init__` method.\n"
   ]
  },
  {
   "cell_type": "code",
   "execution_count": null,
   "id": "8836ea74",
   "metadata": {},
   "outputs": [],
   "source": [
    "class Monster:\n",
    "    # Initialize all of the attributes of the unique Monster class instance.\n",
    "    def __init__(self, \n",
    "                 name = None, \n",
    "                 level = None, \n",
    "                 weapon = None):\n",
    "        \n",
    "        self.name = name # Attribute for the monster's name\n",
    "        self.level = level # Attribute for the monster's level\n",
    "        self.weapon = weapon # Attribute for the monster's weapon"
   ]
  },
  {
   "cell_type": "markdown",
   "id": "8c7de36f",
   "metadata": {},
   "source": [
    "### c) Methods & Method Calls\n",
    "\n",
    "Methods in Python are functions that are defined inside a class and are used to define the behaviors of an object. They are essential in encapsulating the functionality of the object. \n",
    "\n",
    "Each method takes at least one parameter, `self`, which refers to the instance of the class. \n",
    "\n",
    "In our `Monster` class, the `healthbar`, `powerlevel`, and `magiclevel` methods are examples of how objects or classes (Monster) can have their own functions, which use or act on attributes.\n",
    "\n",
    "In this example, we are using the inputs `name`, `level`, `weapon`, and `playerlevel` to calculate the Monster's `self.healthbar`, `self.powerlevel`, and `self.magiclevel` using the CLASS METHODS named `healthbar()`, `powerlevel()`, and `magiclevel()`. \n",
    "\n",
    "Note that because these methods are contained within the class, we can call them with `self.`, and they are not accessible to other classes or outside of the class."
   ]
  },
  {
   "cell_type": "code",
   "execution_count": null,
   "id": "76348e4b",
   "metadata": {},
   "outputs": [],
   "source": [
    "class Monster:\n",
    "    # Initialize all of the attributes of the unique Monster class instance.\n",
    "    def __init__(self, \n",
    "                 name = None, \n",
    "                 level = None, \n",
    "                 weapon = None, \n",
    "                 playerlevel = 1):\n",
    "        \n",
    "        self.name = name # Set the class 'self.name' attribute as the input 'name' variable.\n",
    "        self.level = level # Set the class 'self.level' attribute as the input 'level' variable.\n",
    "        self.weapon = weapon # Set the class 'self.level' attribute as the input 'weapon' variable.\n",
    "        \n",
    "        self.playerlevel = playerlevel # Attribute for the player's level, for calculating the Monster's power and health levels.\n",
    "\n",
    "        self.healthbar = self.healthbar() # Calculate the healthbar based on the self.name, self.level, self.weapon attributes.\n",
    "        self.powerlevel = self.powerlevel() # Calculate the powerlevel based on the self.name, self.level, self.weapon attributes.\n",
    "        self.magiclevel = self.magiclevel() # Calculate the magiclevel based on the self.name, self.level, self.weapon attributes.\n",
    "\n",
    "    def healthbar(self):\n",
    "        # Base health depends on the player level.\n",
    "        base_health = 100 * self.playerlevel\n",
    "        self.name\n",
    "        # Health is generally higher for stronger monsters.\n",
    "        health_multiplier = {\"Dragon\": 5, \"Werewolf\": 4, \"Zombie\": 2, \"Goblin\": 1}\n",
    "\n",
    "        # Calculate the health level.\n",
    "        return base_health * health_multiplier.get(self.name, 1) * self.level\n",
    "\n",
    "    def powerlevel(self):\n",
    "        # Power level depends on the monster type and weapon.\n",
    "        weapon_power = {\"sword\": 10, \n",
    "                        \"bow and arrow\": 8, \n",
    "                        \"mace\": 6, \n",
    "                        \"staff\": 4, \n",
    "                        \"iron jaw\": 12, \n",
    "                        \"none\": 0}\n",
    "        \n",
    "        # The Monster subclass derivations corresponding to the four monster types,\n",
    "        # 'Dragon', 'Werewolf', 'Zombie', 'Goblin', determines what weapon it has.\n",
    "\n",
    "        return self.level * weapon_power.get(self.weapon, 0)\n",
    "\n",
    "    def magiclevel(self):\n",
    "        # Magic level varies by monster type\n",
    "        magic_base = {\"Dragon\": 100, \n",
    "                      \"Werewolf\": 50, \n",
    "                      \"Zombie\": 20, \n",
    "                      \"Goblin\": 10}\n",
    "        \n",
    "        # Dragons > Werewolf > Zombie > Goblin\n",
    "        return magic_base.get(self.name, 0)"
   ]
  },
  {
   "cell_type": "markdown",
   "id": "7673548c",
   "metadata": {},
   "source": [
    "We can continue creating methods that give the Monsters versatility, and allow the different instances (Dragon; Werewolf; Zombie; Goblin) of Monster to be dynamically updated."
   ]
  },
  {
   "cell_type": "code",
   "execution_count": null,
   "id": "1b724062",
   "metadata": {},
   "outputs": [],
   "source": [
    "class Monster:\n",
    "    # Initialize all of the attributes of the unique Monster class instance.\n",
    "    def __init__(self, \n",
    "                 name = None, \n",
    "                 level = None, \n",
    "                 weapon = None, \n",
    "                 playerlevel = 1):\n",
    "        \n",
    "        self.name = name # Set the class 'self.name' attribute as the input 'name' variable.\n",
    "        self.level = level # Set the class 'self.level' attribute as the input 'level' variable.\n",
    "        self.weapon = weapon # Set the class 'self.level' attribute as the input 'weapon' variable.\n",
    "        \n",
    "        self.playerlevel = playerlevel # Attribute for the player's level, for calculating the Monster's power and health levels.\n",
    "\n",
    "        self.healthbar = self.healthbar() # Calculate the healthbar based on the self.name, self.level, self.weapon attributes.\n",
    "        self.powerlevel = self.powerlevel() # Calculate the powerlevel based on the self.name, self.level, self.weapon attributes.\n",
    "        self.magiclevel = self.magiclevel() # Calculate the magiclevel based on the self.name, self.level, self.weapon attributes.\n",
    "\n",
    "    def healthbar(self):\n",
    "        # Base health depends on the player level.\n",
    "        base_health = 100 * self.playerlevel\n",
    "        \n",
    "        # Health is generally higher for stronger monsters.\n",
    "        health_multiplier = {\"Dragon\": 5, \"Werewolf\": 4, \"Zombie\": 2, \"Goblin\": 1}\n",
    "\n",
    "        # Calculate the health level.\n",
    "        return base_health * health_multiplier.get(self.name, 1) * self.level\n",
    "\n",
    "    def powerlevel(self):\n",
    "        # Power level depends on the monster type and weapon.\n",
    "        weapon_power = {\"sword\": 10, \n",
    "                        \"bow and arrow\": 8, \n",
    "                        \"mace\": 6, \n",
    "                        \"staff\": 4, \n",
    "                        \"iron jaw\": 12, \n",
    "                        \"none\": 0}\n",
    "        \n",
    "        # The Monster subclass derivations corresponding to the four monster types,\n",
    "        # 'Dragon', 'Werewolf', 'Zombie', 'Goblin', determines what weapon it has.\n",
    "\n",
    "        return self.level * weapon_power.get(self.weapon, 0)\n",
    "\n",
    "    def magiclevel(self):\n",
    "        # Magic level varies by monster type\n",
    "        magic_base = {\"Dragon\": 100, \n",
    "                      \"Werewolf\": 50, \n",
    "                      \"Zombie\": 20, \n",
    "                      \"Goblin\": 10}\n",
    "        \n",
    "        # Dragons > Werewolf > Zombie > Goblin\n",
    "        return magic_base.get(self.name, 0)\n",
    "\n",
    "    def attacks(self):\n",
    "        attack_types = {\n",
    "            \"Dragon\": [\"breathes fire\", \"bites\", \"stomps\"],\n",
    "            \"Werewolf\": [\"slashes\", \"bites\"],\n",
    "            \"Zombie\": [\"bites\", \"slashes\"],\n",
    "            \"Goblin\": [\"slashes\"]\n",
    "        }\n",
    "        \n",
    "        # Enemies attack randomly from their list of attacks.\n",
    "        # You can see how we can easily make the attack selection more complicated with player feedback.\n",
    "        attack = random.choice(attack_types.get(self.name, [\"attacks\"]))\n",
    "\n",
    "        print(f\"{self.name} {attack} with level {self.level} power!\")\n",
    "\n",
    "    def defenses(self):\n",
    "        # Define defenses based on monster type\n",
    "        pass\n",
    "\n",
    "    def movement(self):\n",
    "        # Movement style depends on the monster type (e.g., dragons can fly)\n",
    "        pass\n",
    "\n",
    "    def damagecalc(self, playerattackpower):\n",
    "        # Calculate damage based on enemy attack power\n",
    "        damage = playerattackpower - self.powerlevel\n",
    "\n",
    "        # This method would get called when the player object interacts with the monster object.\n",
    "        # We would update the healthbar based on the monster powerlevel and player attack power.\n",
    "        self.healthbar = max(self.healthbar - damage, 0)"
   ]
  },
  {
   "cell_type": "markdown",
   "id": "8cad062c",
   "metadata": {},
   "source": [
    "In subsection (g), we discuss the concept of inheritance shown below. For now, run the following subcell to be used in the instantiation subsection (d) example."
   ]
  },
  {
   "cell_type": "code",
   "execution_count": null,
   "id": "9d18a68b",
   "metadata": {},
   "outputs": [],
   "source": [
    "class Dragon(Monster):\n",
    "    def __init__(self, level):\n",
    "        super().__init__(\"Dragon\", level, \"none\")\n",
    "\n",
    "    def attacks(self):\n",
    "        attack = \"breathes fire\" if self.magiclevel > 50 else \"bites or stomps\"\n",
    "        print(f\"{self.name} {attack} with level {self.level} power!\")\n",
    "        if attack == \"breathes fire\":\n",
    "            self.magiclevel -= 50  # Reduce magic level when breathing fire\n",
    "\n",
    "class Werewolf(Monster):\n",
    "    def __init__(self, level, fullmoon=False):\n",
    "        weapon = \"iron jaw\" if fullmoon else \"none\"\n",
    "        super().__init__(\"Werewolf\", level, weapon)\n",
    "\n",
    "    def magiclevel(self):\n",
    "        # Increase magic level during full moon\n",
    "        return 100 if self.weapon == \"iron jaw\" else 50\n",
    "\n",
    "class Zombie(Monster):\n",
    "    def __init__(self, level):\n",
    "        weapon = random.choice([\"sword\", \"bow and arrow\", \"none\"])\n",
    "        super().__init__(\"Zombie\", level, weapon)\n",
    "\n",
    "class Goblin(Monster):\n",
    "    def __init__(self, level):\n",
    "        weapon = random.choices([\"sword\", \"bow and arrow\", \"mace\", \"staff\"], weights=[3, 2, 1, 1])[0]\n",
    "        super().__init__(\"Goblin\", level, weapon)"
   ]
  },
  {
   "cell_type": "markdown",
   "id": "e91fc777",
   "metadata": {},
   "source": [
    "### (d) Instantiation\n",
    "\n",
    "Instantiation is the process of creating a new instance of a class. When you instantiate a class, you are essentially creating an object that is an instance of that class. This object can then use the class's methods and properties. For example, creating an instance of the `Monster` class involves providing values for the `name` and `level` attributes. Each instance is an independent object with its own state and behavior. \n",
    "\n",
    "We have created derivative classes (Dragon, Werewolf, Zombie, and Goblin) that inherit the methods and attributes of Monster, and have defined instances of each of these inheriting derivative classes. The line `goblin = Goblin(level=1)` in our example below is an instance of the `Goblin` derivative class that inherits from the `Monster` parent class."
   ]
  },
  {
   "cell_type": "code",
   "execution_count": null,
   "id": "eeffb631",
   "metadata": {},
   "outputs": [],
   "source": [
    "# Create instances of each monster type\n",
    "dragon = Dragon(level=5)\n",
    "werewolf = Werewolf(level=4, fullmoon=True)\n",
    "zombie = Zombie(level=2)\n",
    "goblin = Goblin(level=1)\n",
    "\n",
    "# Display the properties and perform an attack for each monster\n",
    "monsters = [dragon, werewolf, zombie, goblin]\n",
    "\n",
    "for monster in monsters:\n",
    "    print(monster)  # Display properties\n",
    "    monster.attacks()  # Perform an attack"
   ]
  },
  {
   "cell_type": "markdown",
   "id": "77d985ec",
   "metadata": {},
   "source": [
    "##### Synchrotron Minute!\n",
    "This is likely familiar for those that have used packages such as pyFAI or pygix. \n",
    "\n",
    "In pygix, you can create an instance of the `Transform()` class. \n",
    "\n",
    "`pg = Transform()`\n",
    "\n",
    "We often will name this class instance `pg`, presumably for pygix, and then call the `Transform()` class methods using `pg.method()`. You should note that that `pg` here isn't special, only conveinent, similar to when we call the numpy module as `import numpy as np`. \n",
    "\n",
    "We could just as easily have multiple instances of `Transform()` with different names: `transformobj1`, `transformobj2`, etc."
   ]
  },
  {
   "cell_type": "markdown",
   "id": "fb135140",
   "metadata": {},
   "source": [
    "\n",
    "So, more generically, you can think of this as:\n",
    "\n",
    "`classinstancename = ClassName(['class instantiation inputs here'])``\n",
    "This builds our instance of the class that is unique to its inputs.\n",
    "\n",
    "`classinstancename.method()`\n",
    "This calls the class methods, and is often a way of feeding more input information to the unique class instance."
   ]
  },
  {
   "cell_type": "markdown",
   "id": "7d852f67",
   "metadata": {},
   "source": [
    "### e) Useful Dunder Methods\n",
    "\n",
    "Dunder methods (short for \"double underscore\") in Python are special methods that start and end with double underscores. They are also known as magic methods. Let's look at three common dunder methods:\n",
    "\n",
    "1. `__str__`: Returns a string representation of an object.\n",
    "2. `__eq__`: Defines behavior for the equality operator, `==`.\n",
    "3. `__lt__`: Defines behavior for the less than operator, `<`.\n",
    "\n",
    "In our `Monster` class, these methods are used to provide custom behaviors for these operations.\n"
   ]
  },
  {
   "cell_type": "code",
   "execution_count": null,
   "id": "9cf8cab7",
   "metadata": {},
   "outputs": [],
   "source": [
    "class Monster:\n",
    "    def __init__(self, name, level):\n",
    "        self.name = name  # Attribute for the monster's name\n",
    "        self.level = level  # Attribute for the monster's level\n",
    "\n",
    "    def attack(self):\n",
    "        # Method for the monster to attack\n",
    "        return f\"{self.name} attacks with level {self.level} power!\"\n",
    "    \n",
    "    def __str__(self):\n",
    "        # String representation of the Monster\n",
    "        return f\"Monster({self.name}, Level {self.level})\"\n",
    "\n",
    "    def __eq__(self, other):\n",
    "        # Equality comparison between two monsters\n",
    "        return self.name == other.name and self.level == other.level\n",
    "\n",
    "    def __lt__(self, other):\n",
    "        # Less-than comparison based on level\n",
    "        return self.level < other.level"
   ]
  },
  {
   "cell_type": "markdown",
   "id": "dd31c666",
   "metadata": {},
   "source": [
    "### f) Static Methods\n",
    "\n",
    "Static methods in Python are methods that are bound to a class rather than its object. They do not require a class instance creation. So, they are not dependent on the state of the object.\n",
    "\n",
    "The `validate_data` method in the `DataAnalyzer` class is an example of a static method.\n"
   ]
  },
  {
   "cell_type": "code",
   "execution_count": null,
   "id": "31ad2c3c",
   "metadata": {},
   "outputs": [],
   "source": [
    "class Monster:\n",
    "    def __init__(self, name, level):\n",
    "        self.name = name\n",
    "        self.level = level\n",
    "\n",
    "    @staticmethod\n",
    "    def is_valid_level(level):\n",
    "        # Static method to validate the level of the monster\n",
    "        return level > 0\n",
    "\n",
    "    # ...include previous dunder methods here..."
   ]
  },
  {
   "cell_type": "markdown",
   "id": "c32a0e8c",
   "metadata": {},
   "source": [
    "### g) Inheritance\n",
    "\n",
    "Inheritance allows a new class to extend or modify the behavior of an existing class. The new class, known as a derived class, inherits attributes and methods from the base class.\n",
    "\n",
    "Let's extend our `Monster` class to create a specific type of monster.\n"
   ]
  },
  {
   "cell_type": "code",
   "execution_count": null,
   "id": "c8cee4a7",
   "metadata": {},
   "outputs": [],
   "source": [
    "class Dragon(Monster):\n",
    "    def __init__(self, level):\n",
    "        super().__init__(\"Dragon\", level, \"none\")\n",
    "\n",
    "    def attacks(self):\n",
    "        attack = \"breathes fire\" if self.magiclevel > 50 else \"bites or stomps\"\n",
    "        print(f\"{self.name} {attack} with level {self.level} power!\")\n",
    "        if attack == \"breathes fire\":\n",
    "            self.magiclevel -= 50  # Reduce magic level when breathing fire\n",
    "\n",
    "    # Other unique methods for Dragon\n",
    "\n",
    "class Werewolf(Monster):\n",
    "    def __init__(self, level, fullmoon=False):\n",
    "        weapon = \"iron jaw\" if fullmoon else \"none\"\n",
    "        super().__init__(\"Werewolf\", level, weapon)\n",
    "\n",
    "    def magiclevel(self):\n",
    "        # Increase magic level during full moon\n",
    "        return 100 if self.weapon == \"iron jaw\" else 50\n",
    "\n",
    "    # Other unique methods for Werewolf\n",
    "\n",
    "class Zombie(Monster):\n",
    "    def __init__(self, level):\n",
    "        weapon = random.choice([\"sword\", \"bow and arrow\", \"none\"])\n",
    "        super().__init__(\"Zombie\", level, weapon)\n",
    "\n",
    "    # Other unique methods for Zombie\n",
    "\n",
    "class Goblin(Monster):\n",
    "    def __init__(self, level):\n",
    "        weapon = random.choices([\"sword\", \"bow and arrow\", \"mace\", \"staff\"], weights=[3, 2, 1, 1])[0]\n",
    "        super().__init__(\"Goblin\", level, weapon)\n",
    "\n",
    "    # Other unique methods for Goblin"
   ]
  },
  {
   "cell_type": "markdown",
   "id": "23c0fc7a-69be-470f-a081-7ca20517444b",
   "metadata": {},
   "source": [
    "## Rclone: Setting Up and Using Rclone with Conda Environment"
   ]
  },
  {
   "cell_type": "markdown",
   "id": "a8c8dd97",
   "metadata": {},
   "source": [
    "Rclone is a versatile tool for managing files on cloud storage like OneDrive. This guide explains how to set up Rclone in a Conda environment, configure it for use with OneDrive, and synchronize data between a local machine and a remote machine (e.g., NSLS-II JupyterHub server).\n",
    "\n",
    "1. **Creating/Installing Rclone in a Conda Environment:**\n",
    "   - **Create a New Conda Environment:**\n",
    "     If you do not have an environment named 'rclone', create it using:\n",
    "     ```bash\n",
    "     conda create -n rclone python=3.11\n",
    "     ```\n",
    "     Activate the environment:\n",
    "     ```bash\n",
    "     conda activate rclone\n",
    "     ```\n",
    "   - **Install Rclone in an Existing or New Conda Environment:**\n",
    "     Activate your environment:\n",
    "     ```bash\n",
    "     conda activate yourenvironmentname\n",
    "     ```\n",
    "     Within the 'rclone' environment, install Rclone using:\n",
    "     ```bash\n",
    "     conda install -c conda-forge rclone\n",
    "     ```\n",
    "\n",
    "2. **Configure Rclone with OneDrive:**\n",
    "   - Open a terminal and activate the 'rclone' environment:\n",
    "     ```bash\n",
    "     conda activate rclone\n",
    "     ```\n",
    "   - Start the Rclone configuration process:\n",
    "     ```bash\n",
    "     rclone config\n",
    "     ```\n",
    "   - Follow these steps in the interactive setup:\n",
    "     - **n** - New remote.\n",
    "     - **Name** - Enter whatever you want for the name of your remote, I use `onedrive` as the name of my OneDrive remote.\n",
    "     - **Storage Type** - Scroll through the options and select the number corresponding to `Microsoft OneDrive`.\n",
    "     - **client_id** - Leave blank (just press Enter).\n",
    "     - **client_secret** - Leave blank (just press Enter).\n",
    "     - **region** - Choose the region closest to you or leave it as the default.\n",
    "     - **token** - Rclone will provide a link. Open this link in your web browser, log in to your Microsoft account, and grant access. Copy the token provided into the terminal.\n",
    "     - **drive_id** - Leave blank for a personal account, or fill it in if you have a specific drive ID for business/education accounts.\n",
    "     - **drive_type** - Choose the appropriate type (personal, business, or education).\n",
    "     - **Edit advanced config** - Usually, No is fine unless you need specific advanced settings.\n",
    "     - **Use auto config** - Choose Yes if you are running on a local machine. For remote setups like a server or headless system, choose No and follow the instructions to authenticate using a local machine.\n",
    "     - **Configure as a team drive** - Choose No for a personal OneDrive account.\n",
    "     - Finally, **Yes** to confirm the settings.\n",
    "\n",
    "3. **Testing the Configuration:**\n",
    "   - To ensure that the setup was successful, list the directories in your OneDrive:\n",
    "     ```bash\n",
    "     rclone lsd onedrive:\n",
    "     ```\n",
    "   - You should see a list of the folders in your OneDrive.\n",
    "\n",
    "4. **Repeat the Process on NSLS-II JupyterHub Server:**\n",
    "   - Repeat the above steps to configure Rclone with OneDrive on the NSLS-II JupyterHub server.\n",
    "   - Make sure to use the same 'onedrive' remote configuration to ensure seamless synchronization.\n",
    "\n",
    "5. **Transferring Files:**\n",
    "   - Use `rclone copy`, `rclone sync`, or other Rclone commands to transfer files between your local machine, OneDrive, and the JupyterHub server.\n",
    "\n",
    "By following these detailed steps, you can set up Rclone to work with OneDrive both on your local machine and on remote servers like NSLS-II JupyterHub. This allows for efficient management and synchronization of your data across different platforms."
   ]
  },
  {
   "cell_type": "markdown",
   "id": "7708d2c7-f369-409c-b1ff-4329aeb9adab",
   "metadata": {},
   "source": [
    "## Xarray & Dask"
   ]
  },
  {
   "cell_type": "markdown",
   "id": "ef581a6e",
   "metadata": {},
   "source": [
    "### Introduction to DataArrays\n",
    "Xarray's DataArray is designed for working with labeled multi-dimensional arrays. It provides a simple, yet powerful interface for handling gridded data, which is common in many scientific fields.\n",
    "\n",
    "Dask Arrays are used to parallel computing applications, and are analogous to NumPy arrays in regards to available operations. Dask Arrays also allow for 'lazy loading', which allows the user to load pointers into memory in place of all of their data, so that you only load what you need, when you need it.\n",
    "\n",
    "Further, Dask Arrays can be stored with xarray DataArrays. We will typecast the NumPy arrays extracted from the TIFF into Dask Arrays, then create an xarray DataArray with paired metadata, coordinates, and dimensions.\n",
    "\n",
    "**Key Concepts:**\n",
    "- **Dimensions:** These are the axes of the data. For a TIFF image, common dimensions are 'pixX' and 'pixY' representing pixel coordinates.\n",
    "- **Coordinates:** These are labels along dimensions. In our case, 'pixX' and 'pixY' can be the coordinates.\n",
    "- **Attributes:** Metadata or other supplementary information about the data. We will extract these from the file name."
   ]
  },
  {
   "cell_type": "markdown",
   "id": "b1f44f14",
   "metadata": {},
   "source": [
    "#### Build the Function\n",
    "Run this cell to compile a function to load TIFFs into DataArrays."
   ]
  },
  {
   "cell_type": "code",
   "execution_count": null,
   "id": "6f7986e0-9d39-49a7-b2f2-6513b16c9248",
   "metadata": {},
   "outputs": [],
   "source": [
    "import xarray as xr\n",
    "import rasterio, os\n",
    "import pathlib\n",
    "from pathlib import Path\n",
    "import dask.array as da\n",
    "\n",
    "def load_tiff_to_dataarray(filePath, metaKeys):\n",
    "    \"\"\" Loads data from a TIFF (.tiff) file format, and extracts metadata from the filename using a specified delimeter. \n",
    "    User provides a list of metadata keys 'metaKeys' that correspond order-wise to the metadata attributes in the filename. \"\"\"\n",
    "    \n",
    "    # Read the TIFF file\n",
    "    with rasterio.open(filePath) as src:\n",
    "        data = src.read(1)  # Read the first band\n",
    "\n",
    "    # Extracting metadata from the file name and assigning to the DataArray\n",
    "    fileName = Path(filePath).stem\n",
    "    metaValues = fileName.split('_')\n",
    "    metaData = dict(zip(metaKeys, metaValues))\n",
    "\n",
    "    # Convert the NumPy array to a Dask array\n",
    "    daskData = da.from_array(data, chunks='auto')  # 'auto' lets Dask decide the chunk size\n",
    "\n",
    "    # Get dimensions of the data\n",
    "    height, width = data.shape\n",
    "    \n",
    "    # Creating a Dask-enabled DataArray\n",
    "    dataArray = xr.DataArray(daskData, \n",
    "                            dims=['pixY', 'pixX'],\n",
    "                            coords={'pixY': range(height), 'pixX': range(width)})\n",
    "\n",
    "    for key, value in metaData.items():\n",
    "        dataArray.attrs[key] = value\n",
    "\n",
    "    return dataArray"
   ]
  },
  {
   "cell_type": "markdown",
   "id": "899cf4c0",
   "metadata": {},
   "source": [
    "#### Example Usage\n",
    "Provide a filePath with a TIFF (.tiff), a set of metadata keys, and create the xarray DataArray."
   ]
  },
  {
   "cell_type": "code",
   "execution_count": null,
   "id": "42f0f12e",
   "metadata": {},
   "outputs": [],
   "source": [
    "# Example Usage\n",
    "# Get the current directory of the notebook\n",
    "currentPath = pathlib.Path.cwd() # Get the current directory of the notebook\n",
    "\n",
    "# Construct the relative file path (doing this dynamically so you don't have to for the example...)\n",
    "filePath = currentPath / 'example_xarray' / 'sam22_1MAI1PbI2_unfilt_0p3M_5p0scfh_Si_30uL_043_2068.2s_x0.015_th0.300_0.49s_986546_000800_maxs.tiff'\n",
    "\n",
    "metaKeys = ['sampleID', \n",
    "            'chemistry', \n",
    "            'filtration', \n",
    "            'concentration', \n",
    "            'purgerate', \n",
    "            'substrate', \n",
    "            'volume', \n",
    "            'sampleNum',\n",
    "            'startTime', \n",
    "            'xposition', \n",
    "            'incident_angle', \n",
    "            'exposuretime', \n",
    "            'scanID', \n",
    "            'time']\n",
    "\n",
    "dataArray = load_tiff_to_dataarray(filePath, metaKeys)"
   ]
  },
  {
   "cell_type": "markdown",
   "id": "d36c2ca0",
   "metadata": {},
   "source": [
    "#### Display the DataArray\n",
    "Run the following cell with just the output dataArray name. \n",
    "\n",
    "You can see how the coordinates are assigned to that data, which values can be used to index the data, and the extracted metadata values that are stored as attributes attached to the DataArray."
   ]
  },
  {
   "cell_type": "code",
   "execution_count": null,
   "id": "45314c45",
   "metadata": {},
   "outputs": [],
   "source": [
    "dataArray"
   ]
  },
  {
   "cell_type": "markdown",
   "id": "23b16572",
   "metadata": {},
   "source": [
    "#### Build the Function for Displaying a Heatmap"
   ]
  },
  {
   "cell_type": "code",
   "execution_count": null,
   "id": "2b99535b",
   "metadata": {},
   "outputs": [],
   "source": [
    "import matplotlib.pyplot as plt\n",
    "\n",
    "def plot_dataarray_heatmap(data_array, colormap='viridis', quantile_range=(0.05, 0.95)):\n",
    "    plt.close('all')\n",
    "    \n",
    "    # Calculate contrast scaling limits\n",
    "    lower_limit = data_array.quantile(quantile_range[0]).compute()\n",
    "    upper_limit = data_array.quantile(quantile_range[1]).compute()\n",
    "\n",
    "    # Plot the DataArray as a heatmap\n",
    "    plt.figure(figsize=(8, 6))\n",
    "\n",
    "    # Ensure that the data is loaded before plotting\n",
    "    if isinstance(data_array.data, da.Array):\n",
    "        data_to_plot = data_array.compute()  # Compute the Dask array to a NumPy array\n",
    "    else:\n",
    "        data_to_plot = data_array\n",
    "\n",
    "    img = plt.imshow(data_to_plot, cmap=colormap, vmin=lower_limit, vmax=upper_limit)\n",
    "    \n",
    "    # Automatically label axes based on the coordinate dimension names\n",
    "    plt.xlabel(data_array.dims[1])  # x-axis label\n",
    "    plt.ylabel(data_array.dims[0])  # y-axis label\n",
    "\n",
    "    # Add colorbar\n",
    "    plt.colorbar(img, label='Intensity')\n",
    "    plt.title('Heatmap of DataArray')\n",
    "    plt.show()"
   ]
  },
  {
   "cell_type": "markdown",
   "id": "fc3c98ca",
   "metadata": {},
   "source": [
    "#### Display the DataArray as a Heatmap"
   ]
  },
  {
   "cell_type": "code",
   "execution_count": null,
   "id": "3bbc302b",
   "metadata": {},
   "outputs": [],
   "source": [
    "%matplotlib widget\n",
    "\n",
    "# Example Usage\n",
    "plot_dataarray_heatmap(dataArray)"
   ]
  },
  {
   "cell_type": "markdown",
   "id": "94edb908",
   "metadata": {},
   "source": [
    "### Introduction to Xarray DataSets\n",
    "\n",
    "Xarray's DataSet is a multi-dimensional, labeled data structure which can hold multiple DataArrays. It is particularly useful for handling collections of related arrays with shared dimensions.\n",
    "\n",
    "**When to Use a DataSet:**\n",
    "- Ideal for handling multiple related DataArrays, like a series of images from an experiment.\n",
    "- Useful for organizing data with common dimensions but varying coordinates or attributes.\n"
   ]
  },
  {
   "cell_type": "markdown",
   "id": "6fef2d62",
   "metadata": {},
   "source": [
    "#### Loading Multiple TIFF Files into a DataSet\n",
    "\n",
    "To create a DataSet, we will load multiple TIFF files from a folder, convert each into a DataArray with metadata, and then concatenate these DataArrays into a DataSet.\n"
   ]
  },
  {
   "cell_type": "markdown",
   "id": "3f1d5c75",
   "metadata": {},
   "source": [
    "#### Build the Function\n",
    "Function for creating a dataSet from a dataFolderPath and set of metadata keys."
   ]
  },
  {
   "cell_type": "code",
   "execution_count": null,
   "id": "94a28342",
   "metadata": {},
   "outputs": [],
   "source": [
    "import xarray as xr\n",
    "from pathlib import Path\n",
    "import glob as glob\n",
    "\n",
    "def load_tiffs_to_dataset(data_folder_path, metadata_keys):\n",
    "    data_folder = Path(data_folder_path)\n",
    "    data_arrays = {}\n",
    "\n",
    "    for file_path in data_folder.glob('*.tiff'):\n",
    "        data_array = load_tiff_to_dataarray(file_path, metadata_keys)\n",
    "        time_value = data_array.attrs.get('time')\n",
    "        \n",
    "        # Use the 'time' attribute as a key in a dictionary of DataArrays\n",
    "        data_arrays[time_value] = data_array\n",
    "\n",
    "    # Create a DataSet from the dictionary of DataArrays\n",
    "    data_set = xr.Dataset(data_arrays)\n",
    "    return data_set"
   ]
  },
  {
   "cell_type": "markdown",
   "id": "91c0a195",
   "metadata": {},
   "source": [
    "#### Example Usage\n",
    "Provide a folderPath with multiple TIFFs (.tiff), a set of metadata keys, and create the xarray DataSet."
   ]
  },
  {
   "cell_type": "code",
   "execution_count": null,
   "id": "b46d3292",
   "metadata": {},
   "outputs": [],
   "source": [
    "# Example Usage\n",
    "currentPath = pathlib.Path.cwd() # Get the current directory of the notebook\n",
    "\n",
    "# Construct the relative file path (doing this dynamically so you don't have to for the example...)\n",
    "folderPath = currentPath / 'example_xarray'\n",
    "\n",
    "metaKeys = ['sampleID', \n",
    "            'chemistry', \n",
    "            'filtration', \n",
    "            'concentration', \n",
    "            'purgerate', \n",
    "            'substrate', \n",
    "            'volume', \n",
    "            'sampleNum',\n",
    "            'startTime', \n",
    "            'xposition', \n",
    "            'incident_angle', \n",
    "            'exposuretime', \n",
    "            'scanID', \n",
    "            'time']\n",
    "\n",
    "dataSet = load_tiffs_to_dataset(folderPath, metaKeys)"
   ]
  },
  {
   "cell_type": "code",
   "execution_count": null,
   "id": "b8a8450f",
   "metadata": {},
   "outputs": [],
   "source": [
    "dataSet"
   ]
  },
  {
   "cell_type": "markdown",
   "id": "c43adf06",
   "metadata": {},
   "source": [
    "### Indexing & Slicing DataSets/Arrays\n",
    "\n",
    "Once you have a DataArray or DataSet, you can easily plot and slice the data based on coordinate dimensions and attributes. \n",
    "\n",
    "This is powerful for analyzing and visualizing multi-dimensional data.\n"
   ]
  },
  {
   "cell_type": "markdown",
   "id": "da22b68b",
   "metadata": {},
   "source": [
    "##### Let's start by extracting a DataArray from our DataSet.\n",
    "\n",
    "Select the DataArray you want from the DataSet by indexing the data variable."
   ]
  },
  {
   "cell_type": "code",
   "execution_count": null,
   "id": "0184c592",
   "metadata": {},
   "outputs": [],
   "source": [
    "timeVal = '000160'\n",
    "\n",
    "# Select the DataArray you want from the DataSet by indexing the data variable.\n",
    "timeArray = dataSet[timeVal]"
   ]
  },
  {
   "cell_type": "markdown",
   "id": "656c796f",
   "metadata": {},
   "source": [
    "Display the DataArray contents."
   ]
  },
  {
   "cell_type": "code",
   "execution_count": null,
   "id": "af062062",
   "metadata": {},
   "outputs": [],
   "source": [
    "timeArray"
   ]
  },
  {
   "cell_type": "markdown",
   "id": "ac578c6e",
   "metadata": {},
   "source": [
    "Plot the Indexed DataArray."
   ]
  },
  {
   "cell_type": "code",
   "execution_count": null,
   "id": "3e777cae",
   "metadata": {},
   "outputs": [],
   "source": [
    "%matplotlib widget\n",
    "\n",
    "# Plot the indexed DataArray\n",
    "plot_dataarray_heatmap(timeArray)"
   ]
  },
  {
   "cell_type": "markdown",
   "id": "718af42d",
   "metadata": {},
   "source": [
    "##### Slice the DataArray\n",
    "\n",
    "Define a range over the coordinate dimensions that you want to cut out of the DataArray. \n",
    "\n",
    "Assign the subset to a new DataArray, and then plot that sliced DataArray."
   ]
  },
  {
   "cell_type": "code",
   "execution_count": null,
   "id": "8cb0f4b4",
   "metadata": {},
   "outputs": [],
   "source": [
    "# Sample values for slicing - replace these with your desired ranges\n",
    "pixX_range = (520, 980)  # Replace with your range for pixX\n",
    "pixY_range = (0, 640)  # Replace with your range for pixY\n",
    "\n",
    "# Selecting the DataArray from the DataSet\n",
    "timeVal = '000160'  # Replace with your time value\n",
    "timeArray = dataSet[timeVal]\n",
    "\n",
    "# Slicing the DataArray\n",
    "slicedArray = timeArray.sel(pixX=slice(*pixX_range), pixY=slice(*pixY_range))"
   ]
  },
  {
   "cell_type": "markdown",
   "id": "c812c4cd",
   "metadata": {},
   "source": [
    "##### Display the sliced DataArray."
   ]
  },
  {
   "cell_type": "code",
   "execution_count": null,
   "id": "134d5ef9",
   "metadata": {},
   "outputs": [],
   "source": [
    "slicedArray"
   ]
  },
  {
   "cell_type": "markdown",
   "id": "55da8348",
   "metadata": {},
   "source": [
    "##### Display the Sliced DataArray as a Heatmap"
   ]
  },
  {
   "cell_type": "code",
   "execution_count": null,
   "id": "9e083503",
   "metadata": {},
   "outputs": [],
   "source": [
    "%matplotlib widget\n",
    "\n",
    "# Plot the indexed DataArray\n",
    "plot_dataarray_heatmap(slicedArray)"
   ]
  },
  {
   "cell_type": "markdown",
   "id": "553227c7",
   "metadata": {},
   "source": [
    "## Introduction to Zarr and netCDF4 File Types"
   ]
  },
  {
   "cell_type": "markdown",
   "id": "d5818206",
   "metadata": {},
   "source": [
    "### Zarr Format\n",
    "\n",
    "**What is Zarr?**\n",
    "Zarr is a format for the storage of chunked, compressed, N-dimensional arrays. It's designed for use in data analysis and cloud-based or distributed computing environments.\n",
    "\n",
    "**Key Features:**\n",
    "- **Chunked Storage:** Efficient for accessing small sections of large datasets.\n",
    "- **Compression:** Reduces storage space requirements.\n",
    "- **N-dimensional Arrays:** Ideal for multi-dimensional data.\n",
    "- **Parallel Computing Friendly:** Supports concurrent read/write access.\n",
    "- **Language Agnostic:** Can be used across various programming languages.\n",
    "\n",
    "**Usage in Data Analysis:**\n",
    "Commonly used in genomics, astronomy, climate science, etc., where handling large datasets efficiently is crucial."
   ]
  },
  {
   "cell_type": "markdown",
   "id": "88a28d15",
   "metadata": {},
   "source": [
    "### netCDF4 Format\n",
    "\n",
    "**What is netCDF4?**\n",
    "netCDF (Network Common Data Form) is a set of software libraries and data formats supporting the creation, access, and sharing of array-oriented scientific data. netCDF4 is an enhancement based on HDF5.\n",
    "\n",
    "**Key Features:**\n",
    "- **Self-Describing:** Includes information about the data it contains.\n",
    "- **Portable:** Accessible across different computer systems.\n",
    "- **Scalable:** Efficient for both small and large datasets.\n",
    "- **Appendable:** Allows appending data without altering the structure.\n",
    "\n",
    "**Usage in Data Analysis:**\n",
    "Widely used in meteorology, oceanography, atmospheric and oceanic research for data sharing and storage."
   ]
  },
  {
   "cell_type": "markdown",
   "id": "02eefe49",
   "metadata": {},
   "source": [
    "---\n",
    "In our Xarray examples, Zarr and netCDF4 provide solutions for storing large, multi-dimensional datasets. Zarr is suited for high-performance, parallel computing scenarios, while netCDF4 is ideal for standardized scientific data sharing and archival.\n"
   ]
  },
  {
   "cell_type": "code",
   "execution_count": null,
   "id": "c71a7cc2",
   "metadata": {},
   "outputs": [],
   "source": [
    "def save_dataset_as_zarr(dataset, zarr_file_path):\n",
    "    # Save the dataset as a zarr file\n",
    "    dataset.to_zarr(zarr_file_path, mode='w')\n",
    "\n",
    "# Example usage\n",
    "zarr_file_path = Path('your_dataset.zarr')\n",
    "save_dataset_as_zarr(dataset, zarr_file_path)"
   ]
  },
  {
   "cell_type": "markdown",
   "id": "28d4e079",
   "metadata": {},
   "source": [
    "### Reloading the DataSet from the Zarr File\n",
    "\n",
    "Once a DataSet is saved as a Zarr file, it can be efficiently reloaded for further analysis. This step is crucial for workflows that involve large datasets or require sharing data across different platforms or systems."
   ]
  },
  {
   "cell_type": "code",
   "execution_count": null,
   "id": "e33f9fbf",
   "metadata": {},
   "outputs": [],
   "source": [
    "def load_dataset_from_zarr(zarr_file_path):\n",
    "    # Load the dataset from the zarr file\n",
    "    return xr.open_zarr(zarr_file_path)\n",
    "\n",
    "# Example usage\n",
    "zarr_file_path = Path('your_dataset.zarr')\n",
    "reloaded_dataset = load_dataset_from_zarr(zarr_file_path)"
   ]
  },
  {
   "cell_type": "markdown",
   "id": "0b01e471",
   "metadata": {},
   "source": [
    "### Plotting the Reloaded DataSet\n",
    "\n",
    "After reloading the DataSet from the Zarr file, we can visualize the data to confirm its integrity and to conduct further analysis. Here, we will demonstrate how to plot the first image from the reloaded DataSet."
   ]
  },
  {
   "cell_type": "code",
   "execution_count": null,
   "id": "93ce9c3e",
   "metadata": {},
   "outputs": [],
   "source": [
    "import matplotlib.pyplot as plt\n",
    "\n",
    "def plot_dataset(dataset):\n",
    "    # Plotting the first image in the dataset for demonstration\n",
    "    first_image = dataset.isel(image_number=0)\n",
    "    first_image.plot.imshow()\n",
    "    plt.show()\n",
    "\n",
    "# Example usage\n",
    "plot_dataset(reloaded_dataset)"
   ]
  }
 ],
 "metadata": {
  "kernelspec": {
   "display_name": "Python 3 (ipykernel)",
   "language": "python",
   "name": "python3"
  },
  "language_info": {
   "codemirror_mode": {
    "name": "ipython",
    "version": 3
   },
   "file_extension": ".py",
   "mimetype": "text/x-python",
   "name": "python",
   "nbconvert_exporter": "python",
   "pygments_lexer": "ipython3",
   "version": "3.11.7"
  }
 },
 "nbformat": 4,
 "nbformat_minor": 5
}
